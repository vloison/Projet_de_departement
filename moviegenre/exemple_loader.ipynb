{
 "cells": [
  {
   "cell_type": "code",
   "execution_count": null,
   "metadata": {},
   "outputs": [],
   "source": [
    "import tensorflow as tf\n",
    "import pathlib\n",
    "import numpy as np\n",
    "import matplotlib.pyplot as plt\n",
    "import os\n",
    "import pandas as pd"
   ]
  },
  {
   "cell_type": "markdown",
   "metadata": {},
   "source": [
    "## Move posters to use the data loader"
   ]
  },
  {
   "cell_type": "code",
   "execution_count": null,
   "metadata": {},
   "outputs": [],
   "source": [
    "source = pathlib.Path('../data/posters')\n",
    "movefiles = pd.read_csv('../data/movefiles.csv')\n",
    "\n",
    "for cat in movefiles.category.unique():\n",
    "    p = source/cat\n",
    "    p.mkdir()\n",
    "    for genre in movefiles.genre.unique():\n",
    "        q = p/genre\n",
    "        q.mkdir()\n",
    "\n",
    "p = source/'autres'\n",
    "p.mkdir()\n",
    "\n",
    "for i, row in movefiles.iterrows():\n",
    "    s = source/row['name']\n",
    "    if s.exists():\n",
    "        s.replace(source/row['category']/row['genre']/row['name'])\n",
    "\n",
    "for autre in source.glob('*.jpg'):\n",
    "    autre.replace(source/'autres'/autre.name)"
   ]
  },
  {
   "cell_type": "markdown",
   "metadata": {},
   "source": [
    "## Data loader"
   ]
  },
  {
   "cell_type": "code",
   "execution_count": null,
   "metadata": {},
   "outputs": [],
   "source": [
    "data_dir = pathlib.Path('../data/posters')\n",
    "\n",
    "AUTOTUNE = tf.data.experimental.AUTOTUNE\n",
    "\n",
    "BATCH_SIZE = 32\n",
    "IMG_HEIGHT = 256\n",
    "IMG_WIDTH = 256\n",
    "\n",
    "NUMBER_TRAIN_SAMPLES = len(list((data_dir/'train').glob('*/*')))\n",
    "NUMBER_VAL_SAMPLES = len(list((data_dir/'val').glob('*/*')))\n",
    "NUMBER_TEST_SAMPLES = len(list((data_dir/'test').glob('*/*')))\n",
    "\n",
    "STEP_SIZE_TRAIN = int(np.ceil(NUMBER_TRAIN_SAMPLES/BATCH_SIZE))\n",
    "STEP_SIZE_VAL = int(np.ceil(NUMBER_VAL_SAMPLES/BATCH_SIZE))\n",
    "STEP_SIZE_TEST = int(np.ceil(NUMBER_TEST_SAMPLES/BATCH_SIZE))\n",
    "\n",
    "CLASS_NAMES = np.array(['Action', 'Animation', 'Comédie', 'Comédie-dramatique', 'Documentaire', 'Drame', 'Thriller-Policier'])\n",
    "\n",
    "def get_label(file_path):\n",
    "    # convert the path to a list of path components\n",
    "    parts = tf.strings.split(file_path, os.path.sep)\n",
    "    # The second to last is the class-directory\n",
    "    return parts[-2] == CLASS_NAMES\n",
    "\n",
    "def decode_img(img):\n",
    "    # convert the compressed string to a 3D uint8 tensor\n",
    "    img = tf.image.decode_jpeg(img, channels=3)\n",
    "    return tf.image.resize(img, [IMG_WIDTH, IMG_HEIGHT], method='lanczos3')\n",
    "\n",
    "def process_path(file_path):\n",
    "    label = get_label(file_path)\n",
    "    # load the raw data from the file as a string\n",
    "    img = tf.io.read_file(file_path)\n",
    "    img = decode_img(img)\n",
    "    return img, label"
   ]
  },
  {
   "cell_type": "code",
   "execution_count": null,
   "metadata": {},
   "outputs": [],
   "source": [
    "from classification_models.tfkeras import Classifiers\n",
    "\n",
    "ResNet18, preprocess_input = Classifiers.get('resnet18')\n",
    "\n",
    "def augment(image,label):\n",
    "    image = tf.image.random_flip_left_right(image)\n",
    "#     image = tf.image.random_flip_up_down(image)\n",
    "    image = tf.image.random_hue(image, 0.1)\n",
    "    image = tf.image.random_saturation(image, 0.5, 2)\n",
    "    image = tf.image.random_brightness(image, 0.3)\n",
    "    image = tf.image.random_contrast(image, 0.2, 1.8)\n",
    "#     image = tf.image.rot90(image, tf.random.uniform(shape=[], minval=0, maxval=4, dtype=tf.int32))\n",
    "    padding = 50\n",
    "    image = tf.image.resize_with_crop_or_pad(image, IMG_WIDTH+padding, IMG_HEIGHT+padding)\n",
    "    image = tf.image.random_crop(image, size=[IMG_WIDTH, IMG_HEIGHT, 3])\n",
    "    return image, label\n",
    "\n",
    "\n",
    "def prepare_data(ds, phase, shuffle_buffer_size=1000):\n",
    "    ds = ds.shuffle(buffer_size=shuffle_buffer_size)\n",
    "    ds = ds.repeat()\n",
    "    if phase == 'train':\n",
    "        ds = ds.map(augment, num_parallel_calls=AUTOTUNE)\n",
    "    ds.map(lambda img, l : (preprocess_input(img), l), num_parallel_calls=AUTOTUNE)\n",
    "    ds = ds.batch(BATCH_SIZE)\n",
    "    # `prefetch` lets the dataset fetch batches in the background while the model\n",
    "    # is training.\n",
    "    ds = ds.prefetch(buffer_size=AUTOTUNE)       \n",
    "    return ds"
   ]
  },
  {
   "cell_type": "code",
   "execution_count": null,
   "metadata": {},
   "outputs": [],
   "source": [
    "list_ds = {x : tf.data.Dataset.list_files(str(data_dir/x/'*/*')) for x in ['train', 'val', 'test']}\n",
    "labeled_ds = {x : list_ds[x].map(process_path, num_parallel_calls=AUTOTUNE) for x in ['train', 'val', 'test']}\n",
    "dataset = {x: prepare_data(labeled_ds[x], x) for x in ['train', 'val', 'test']}"
   ]
  },
  {
   "cell_type": "markdown",
   "metadata": {},
   "source": [
    "## Features extraction"
   ]
  },
  {
   "cell_type": "code",
   "execution_count": null,
   "metadata": {},
   "outputs": [],
   "source": [
    "model = tf.keras.models.load_model('../data/final_model.h5')\n",
    "features_extractor = tf.keras.models.Model(\n",
    "    inputs=model.input, outputs=model.get_layer('global_average_pooling2d').output)\n",
    "features_extractor.summary()"
   ]
  },
  {
   "cell_type": "code",
   "execution_count": null,
   "metadata": {},
   "outputs": [],
   "source": [
    "train_features = features_extractor.predict(dataset['train'], steps=STEP_SIZE_TRAIN)\n",
    "test_features = features_extractor.predict(dataset['test'], steps=STEP_SIZE_TEST)\n",
    "\n",
    "## A compléter en se basant sur le notebook resnet_knn\n",
    "## Attention: ne peux pas utiliser les mêmes fonctions de visualisation pour les posters, se référer aux notebook transfer learning"
   ]
  }
 ],
 "metadata": {
  "kernelspec": {
   "display_name": "Python 3",
   "language": "python",
   "name": "python3"
  },
  "language_info": {
   "codemirror_mode": {
    "name": "ipython",
    "version": 3
   },
   "file_extension": ".py",
   "mimetype": "text/x-python",
   "name": "python",
   "nbconvert_exporter": "python",
   "pygments_lexer": "ipython3",
   "version": "3.5.3"
  }
 },
 "nbformat": 4,
 "nbformat_minor": 4
}
