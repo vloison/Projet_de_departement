{
 "cells": [
  {
   "cell_type": "code",
   "execution_count": 1,
   "metadata": {},
   "outputs": [],
   "source": [
    "from main import main\n",
    "import argparse"
   ]
  },
  {
   "cell_type": "code",
   "execution_count": 2,
   "metadata": {},
   "outputs": [],
   "source": [
    "parser = argparse.ArgumentParser()\n",
    "parser.add_argument('--config', help='Path to the config file', default='./default_config.yml')\n",
    "parser.add_argument('--log-dir', help='Path to the log directory', default='../log/')\n",
    "parser.add_argument('--posters', help='Path to the posters', default='../data/posters/')\n",
    "parser.add_argument('--models-dir', help='Path to the saved models', default='../data/models/')\n",
    "parser.add_argument('--preproc', help='Path to the preprocessed data', default='../data/preprocessed/')\n",
    "parser.add_argument('--split', help='Path to the splitted data', default='../data/splitted/')\n",
    "parser.add_argument('--database', help='Path to the databse csv', default='../data/poster_data.csv')\n",
    "parser.add_argument('--csv', help='Path to the clean csv', default='../data/')\n",
    "parser.add_argument('-s', '--save', help='Save model', action='store_true')\n",
    "parser.add_argument('-v', '--verbose', help='Verbose', action='store_true')\n",
    "\n",
    "str_args = '-v'.split()\n",
    "args, _ = parser.parse_known_args(str_args)"
   ]
  },
  {
   "cell_type": "code",
   "execution_count": 3,
   "metadata": {},
   "outputs": [
    {
     "name": "stdout",
     "output_type": "stream",
     "text": [
      "Animation 482\n",
      "Drame 2379\n",
      "Thriller 385\n",
      "Action 352\n",
      "Romance 95\n",
      "Documentaire 1114\n",
      "Comédie-dramatique 491\n",
      "Epouvante-horreur 144\n",
      "Comédie 1059\n",
      "Fantastique 93\n",
      "Historique 56\n",
      "Science-fiction 103\n",
      "Comédie-musicale 53\n",
      "Western 28\n",
      "Biopic 125\n",
      "Policier 115\n",
      "Aventure 122\n",
      "17 \n",
      "\n",
      "Drame 577\n",
      "nan 0\n",
      "Romance 346\n",
      "Thriller 327\n",
      "Comédie 266\n",
      "Comédie-dramatique 26\n",
      "Action 227\n",
      "Aventure 197\n",
      "Historique 111\n",
      "Science-fiction 75\n",
      "Western 6\n",
      "Fantastique 128\n",
      "Comédie-musicale 98\n",
      "Biopic 101\n",
      "Policier 115\n",
      "Epouvante-horreur 60\n",
      "Documentaire 26\n",
      "Animation 12\n",
      "18 \n",
      "\n",
      "nan 0\n",
      "Science-fiction 40\n",
      "Comédie 95\n",
      "Policier 44\n",
      "Drame 130\n",
      "Aventure 68\n",
      "Romance 91\n",
      "Action 69\n",
      "Thriller 82\n",
      "Fantastique 53\n",
      "Epouvante-horreur 22\n",
      "Comédie-musicale 40\n",
      "Historique 35\n",
      "Comédie-dramatique 2\n",
      "Western 5\n",
      "Animation 4\n",
      "Biopic 23\n",
      "Documentaire 1\n",
      "18 \n",
      "\n"
     ]
    },
    {
     "name": "stderr",
     "output_type": "stream",
     "text": [
      " 10%|█         | 723/7196 [00:00<00:00, 7226.44it/s]"
     ]
    },
    {
     "name": "stdout",
     "output_type": "stream",
     "text": [
      "Posters database downloading\n"
     ]
    },
    {
     "name": "stderr",
     "output_type": "stream",
     "text": [
      "100%|██████████| 7196/7196 [00:00<00:00, 8708.25it/s]\n",
      "  0%|          | 0/7196 [00:00<?, ?it/s]"
     ]
    },
    {
     "name": "stdout",
     "output_type": "stream",
     "text": [
      "Database downloaded\n",
      "Generating dataset...\n"
     ]
    },
    {
     "name": "stderr",
     "output_type": "stream",
     "text": [
      "  5%|▌         | 364/7196 [00:54<21:12,  5.37it/s]/home/alex/anaconda3/lib/python3.7/site-packages/PIL/TiffImagePlugin.py:788: UserWarning: Corrupt EXIF data.  Expecting to read 4 bytes but only got 0. \n",
      "  warnings.warn(str(msg))\n",
      "100%|██████████| 7196/7196 [33:05<00:00,  3.62it/s]  \n"
     ]
    },
    {
     "name": "stdout",
     "output_type": "stream",
     "text": [
      "(7196, 150, 100, 3) (7196, 17) (7196,) 17 2000 100\n",
      "Action\n",
      "Animation\n",
      "Aventure\n",
      "Biopic\n",
      "Comédie\n",
      "Comédie-dramatique\n",
      "Documentaire\n",
      "Drame\n",
      "Epouvante-horreur\n",
      "Historique\n",
      "Thriller\n",
      "1733 2000 5457\n",
      "taille de IDStr (2000,)\n",
      "taille de IDStest (100,)\n",
      "WARNING:tensorflow:sample_weight modes were coerced from\n",
      "  ...\n",
      "    to  \n",
      "  ['...']\n",
      "WARNING:tensorflow:sample_weight modes were coerced from\n",
      "  ...\n",
      "    to  \n",
      "  ['...']\n",
      "Train on 1700 samples, validate on 300 samples\n",
      "Epoch 1/5\n",
      "1700/1700 [==============================] - 124s 73ms/sample - loss: 0.0037 - categorical_accuracy: 0.0600 - val_loss: 0.0038 - val_categorical_accuracy: 0.0633\n",
      "Epoch 2/5\n",
      "1700/1700 [==============================] - 94s 55ms/sample - loss: 0.0037 - categorical_accuracy: 0.0588 - val_loss: 0.0038 - val_categorical_accuracy: 0.0633\n",
      "Epoch 3/5\n",
      "1700/1700 [==============================] - 91s 54ms/sample - loss: 0.0037 - categorical_accuracy: 0.0688 - val_loss: 0.0038 - val_categorical_accuracy: 0.0633\n",
      "Epoch 4/5\n",
      "1700/1700 [==============================] - 92s 54ms/sample - loss: 0.0037 - categorical_accuracy: 0.0671 - val_loss: 0.0038 - val_categorical_accuracy: 0.0633\n",
      "Epoch 5/5\n",
      "1700/1700 [==============================] - 93s 55ms/sample - loss: 0.0037 - categorical_accuracy: 0.0647 - val_loss: 0.0038 - val_categorical_accuracy: 0.0667\n",
      "0.08235294117647059\n"
     ]
    }
   ],
   "source": [
    "model, test_posters, test_genres, test_ids, movies, predicted_genres, training_history = main(args)"
   ]
  },
  {
   "cell_type": "code",
   "execution_count": 4,
   "metadata": {},
   "outputs": [
    {
     "name": "stdout",
     "output_type": "stream",
     "text": [
      "{0: 'Action', 1: 'Animation', 2: 'Aventure', 3: 'Biopic', 4: 'Comédie', 5: 'Comédie-dramatique', 6: 'Comédie-musicale', 7: 'Documentaire', 8: 'Drame', 9: 'Epouvante-horreur', 10: 'Fantastique', 11: 'Historique', 12: 'Policier', 13: 'Romance', 14: 'Science-fiction', 15: 'Thriller', 16: 'Western'}\n"
     ]
    }
   ],
   "source": [
    "import yaml\n",
    "\n",
    "config = yaml.safe_load(open(args.config))\n",
    "genres_inv = {config['genres'][k]: k for k in config['genres'].keys()}\n",
    "print(genres_inv)"
   ]
  },
  {
   "cell_type": "code",
   "execution_count": 5,
   "metadata": {},
   "outputs": [],
   "source": [
    "import numpy as np\n",
    "\n",
    "predictions = [] \n",
    "for pred in predicted_genres:\n",
    "    first3_index = np.argsort(pred)[-3:]\n",
    "    predictions.append([genres_inv[k] for k in first3_index])\n",
    "        \n",
    "ground_truth = []\n",
    "for truth in test_genres:\n",
    "    first3_index = np.nonzero(truth)[0]\n",
    "    ground_truth.append([genres_inv[k] for k in first3_index])"
   ]
  },
  {
   "cell_type": "code",
   "execution_count": 6,
   "metadata": {},
   "outputs": [
    {
     "name": "stdout",
     "output_type": "stream",
     "text": [
      "L'Epine dans le coeur: truth: ['Documentaire'], pred: ['Historique', 'Biopic', 'Thriller']\n",
      "Broadway Therapy: truth: ['Comédie-dramatique'], pred: ['Thriller', 'Policier', 'Biopic']\n",
      "Islam pour mémoire: truth: ['Documentaire'], pred: ['Action', 'Policier', 'Thriller']\n",
      "Train de vies ou les voyages d'Angélique: truth: ['Drame'], pred: ['Science-fiction', 'Biopic', 'Thriller']\n",
      "The Prodigies: truth: ['Animation', 'Science-fiction'], pred: ['Science-fiction', 'Biopic', 'Thriller']\n",
      "Bis: truth: ['Comédie'], pred: ['Policier', 'Biopic', 'Thriller']\n",
      "Gloria Mundi: truth: ['Drame'], pred: ['Biopic', 'Thriller', 'Policier']\n",
      "Dernier amour: truth: ['Drame', 'Historique', 'Romance'], pred: ['Aventure', 'Biopic', 'Thriller']\n",
      "Arthur Newman: truth: ['Comédie', 'Drame'], pred: ['Biopic', 'Policier', 'Thriller']\n",
      "Le cochon de Gaza: truth: ['Comédie'], pred: ['Biopic', 'Science-fiction', 'Thriller']\n"
     ]
    }
   ],
   "source": [
    "r = np.random.permutation(100)[:10]\n",
    "for i in r:\n",
    "    print('{}: truth: {}, pred: {}'.format(movies.loc[test_ids[i], 'title'], ground_truth[i], predictions[i]))\n",
    "#     print('Ground truth: {}, real: {}'.format(ground_truth[i], movies.loc[test_ids[i], 'genres']))"
   ]
  },
  {
   "cell_type": "code",
   "execution_count": 7,
   "metadata": {},
   "outputs": [
    {
     "name": "stdout",
     "output_type": "stream",
     "text": [
      "(100, 150, 100, 3)\n",
      "(100, 17)\n",
      "(100, 17)\n"
     ]
    }
   ],
   "source": [
    "from utils.display.results_display import plot_test_results\n",
    "print(test_posters.shape)\n",
    "print(test_genres.shape)\n",
    "print(predicted_genres.shape)\n",
    "\n",
    "plot_test_results(test_posters[r], test_genres[r], genres_inv, predicted_genres[r], 0, 5, 2)"
   ]
  },
  {
   "cell_type": "code",
   "execution_count": 8,
   "metadata": {},
   "outputs": [
    {
     "data": {
      "image/png": "[encoded data removed]",
      "text/plain": [
       "<Figure size 432x288 with 1 Axes>"
      ]
     },
     "metadata": {
      "needs_background": "light"
     },
     "output_type": "display_data"
    }
   ],
   "source": [
    "from utils.display.training_display import plot_loss\n",
    "\n",
    "if training_history is not None:\n",
    "    plot_loss(training_history)"
   ]
  }
 ],
 "metadata": {
  "kernelspec": {
   "display_name": "Python 3",
   "language": "python",
   "name": "python3"
  },
  "language_info": {
   "codemirror_mode": {
    "name": "ipython",
    "version": 3
   },
   "file_extension": ".py",
   "mimetype": "text/x-python",
   "name": "python",
   "nbconvert_exporter": "python",
   "pygments_lexer": "ipython3",
   "version": "3.7.7"
  }
 },
 "nbformat": 4,
 "nbformat_minor": 4
}
