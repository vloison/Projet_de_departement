{
 "cells": [
  {
   "cell_type": "code",
   "execution_count": null,
   "metadata": {},
   "outputs": [],
   "source": [
    "from main import main\n",
    "import argparse"
   ]
  },
  {
   "cell_type": "code",
   "execution_count": null,
   "metadata": {},
   "outputs": [],
   "source": [
    "parser = argparse.ArgumentParser()\n",
    "parser.add_argument('--config', help='Path to the config file', default='./default_config.yml')\n",
    "parser.add_argument('--log-dir', help='Path to the log directory', default='../log/')\n",
    "parser.add_argument('--posters', help='Path to the posters', default='../data/posters/')\n",
    "parser.add_argument('--models-dir', help='Path to the saved models', default='../data/models/')\n",
    "parser.add_argument('--preproc', help='Path to the preprocessed data', default='../data/preprocessed/')\n",
    "parser.add_argument('--split', help='Path to the splitted data', default='../data/splitted/')\n",
    "parser.add_argument('--database', help='Path to the databse csv', default='../data/poster_data.csv')\n",
    "parser.add_argument('--csv', help='Path to the clean csv', default='../data/')\n",
    "parser.add_argument('-s', '--save', help='Save model', action='store_true')\n",
    "parser.add_argument('-v', '--verbose', help='Verbose', action='store_true')\n",
    "\n",
    "str_args = '-v'.split()\n",
    "args, _ = parser.parse_known_args(str_args)"
   ]
  },
  {
   "cell_type": "code",
   "execution_count": null,
   "metadata": {},
   "outputs": [],
   "source": [
    "model, test_posters, test_genres, test_ids, movies, predicted_genres, training_history = main(args)"
   ]
  },
  {
   "cell_type": "code",
   "execution_count": null,
   "metadata": {},
   "outputs": [],
   "source": [
    "from utils.display.training_display import plot_loss\n",
    "\n",
    "if training_history is not None:\n",
    "    plot_loss(training_history)"
   ]
  },
  {
   "cell_type": "code",
   "execution_count": null,
   "metadata": {},
   "outputs": [],
   "source": [
    "import yaml\n",
    "\n",
    "config = yaml.safe_load(open(args.config))\n",
    "genres_inv = {config['genres'][k]: k for k in config['genres'].keys()}\n",
    "print(genres_inv)"
   ]
  },
  {
   "cell_type": "code",
   "execution_count": null,
   "metadata": {},
   "outputs": [],
   "source": [
    "import numpy as np\n",
    "\n",
    "predictions = [] \n",
    "for pred in predicted_genres:\n",
    "    first3_index = np.argsort(pred)[-3:]\n",
    "    predictions.append([genres_inv[k] for k in first3_index])\n",
    "        \n",
    "ground_truth = []\n",
    "for truth in test_genres:\n",
    "    first3_index = np.nonzero(truth)[0]\n",
    "    ground_truth.append([genres_inv[k] for k in first3_index])"
   ]
  },
  {
   "cell_type": "code",
   "execution_count": null,
   "metadata": {},
   "outputs": [],
   "source": [
    "r = np.random.permutation(100)[:10]\n",
    "for i in r:\n",
    "    print('{}: truth: {}, pred: {}'.format(movies.loc[test_ids[i], 'title'], ground_truth[i], predictions[i]))\n",
    "#     print('Ground truth: {}, real: {}'.format(ground_truth[i], movies.loc[test_ids[i], 'genres']))"
   ]
  },
  {
   "cell_type": "code",
   "execution_count": null,
   "metadata": {},
   "outputs": [],
   "source": [
    "%%javascript\n",
    "IPython.OutputArea.prototype._should_scroll = function(lines) {\n",
    "    return false;\n",
    "}"
   ]
  },
  {
   "cell_type": "code",
   "execution_count": null,
   "metadata": {},
   "outputs": [],
   "source": [
    "from utils.display.results_display import plot_test_results\n",
    "%matplotlib inline\n",
    "\n",
    "starting_index = 0\n",
    "num_row, num_cols = 25, 4\n",
    "plot_test_results(test_posters, test_genres, genres_inv, predicted_genres, starting_index, num_row, num_cols)"
   ]
  },
  {
   "cell_type": "code",
   "execution_count": null,
   "metadata": {},
   "outputs": [],
   "source": []
  }
 ],
 "metadata": {
  "kernelspec": {
   "display_name": "Python 3",
   "language": "python",
   "name": "python3"
  },
  "language_info": {
   "codemirror_mode": {
    "name": "ipython",
    "version": 3
   },
   "file_extension": ".py",
   "mimetype": "text/x-python",
   "name": "python",
   "nbconvert_exporter": "python",
   "pygments_lexer": "ipython3",
   "version": "3.7.4"
  }
 },
 "nbformat": 4,
 "nbformat_minor": 4
}
