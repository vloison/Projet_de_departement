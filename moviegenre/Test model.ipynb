{
 "cells": [
  {
   "cell_type": "code",
   "execution_count": 1,
   "metadata": {},
   "outputs": [],
   "source": [
    "from main import main\n",
    "import argparse"
   ]
  },
  {
   "cell_type": "code",
   "execution_count": 7,
   "metadata": {},
   "outputs": [],
   "source": [
    "parser = argparse.ArgumentParser()\n",
    "parser.add_argument('--config', help='Path to the config file', default='./default_config.yml')\n",
    "parser.add_argument('--log-dir', help='Path to the log directory', default='../log/')\n",
    "parser.add_argument('--posters', help='Path to the posters', default='../data/posters/')\n",
    "parser.add_argument('--models-dir', help='Path to the saved models', default='../data/models/')\n",
    "parser.add_argument('--preproc', help='Path to the preprocessed data', default='../data/preprocessed/')\n",
    "parser.add_argument('--split', help='Path to the splitted data', default='../data/splitted/')\n",
    "parser.add_argument('--database', help='Path to the databse csv', default='../data/poster_data.csv')\n",
    "parser.add_argument('--csv', help='Path to the clean csv', default='../data/')\n",
    "parser.add_argument('-s', '--save', help='Save model', action='store_true')\n",
    "parser.add_argument('-v', '--verbose', help='Verbose', action='store_true')\n",
    "\n",
    "str_args = '-v'.split()\n",
    "args, _ = parser.parse_known_args(str_args)"
   ]
  },
  {
   "cell_type": "code",
   "execution_count": 8,
   "metadata": {},
   "outputs": [
    {
     "name": "stdout",
     "output_type": "stream",
     "text": [
      "Database already cleaned\n"
     ]
    },
    {
     "name": "stderr",
     "output_type": "stream",
     "text": [
      " 10%|▉         | 715/7196 [00:00<00:00, 7141.70it/s]"
     ]
    },
    {
     "name": "stdout",
     "output_type": "stream",
     "text": [
      "Posters database downloading\n"
     ]
    },
    {
     "name": "stderr",
     "output_type": "stream",
     "text": [
      "100%|██████████| 7196/7196 [00:01<00:00, 6678.89it/s]\n"
     ]
    },
    {
     "name": "stdout",
     "output_type": "stream",
     "text": [
      "Database downloaded\n",
      "Data already preprocessed\n",
      "Data already splitted\n",
      "Model already trained\n",
      "0.08176470588235295\n"
     ]
    }
   ],
   "source": [
    "model, test_posters, test_genres, test_ids, movies, predicted_genres = main(args)"
   ]
  },
  {
   "cell_type": "code",
   "execution_count": 16,
   "metadata": {},
   "outputs": [
    {
     "name": "stdout",
     "output_type": "stream",
     "text": [
      "{0: 'Action', 1: 'Animation', 2: 'Aventure', 3: 'Biopic', 4: 'Comédie', 5: 'Comédie-dramatique', 6: 'Comédie-musicale', 7: 'Documentaire', 8: 'Drame', 9: 'Epouvante-horreur', 10: 'Fantastique', 11: 'Historique', 12: 'Policier', 13: 'Romance', 14: 'Science-fiction', 15: 'Thriller', 16: 'Western'}\n"
     ]
    }
   ],
   "source": [
    "import yaml\n",
    "\n",
    "config = yaml.safe_load(open(args.config))\n",
    "genres_inv = {config['genres'][k]: k for k in config['genres'].keys()}\n",
    "print(genres_inv)"
   ]
  },
  {
   "cell_type": "code",
   "execution_count": 18,
   "metadata": {},
   "outputs": [],
   "source": [
    "import numpy as np\n",
    "\n",
    "predictions = [] \n",
    "for pred in predicted_genres:\n",
    "    first3_index = np.argsort(pred)[-3:]\n",
    "    predictions.append([genres_inv[k] for k in first3_index])\n",
    "        \n",
    "ground_truth = []\n",
    "for truth in test_genres:\n",
    "    first3_index = np.nonzero(truth)[0]\n",
    "    ground_truth.append([genres_inv[k] for k in first3_index])"
   ]
  },
  {
   "cell_type": "code",
   "execution_count": 22,
   "metadata": {},
   "outputs": [
    {
     "name": "stdout",
     "output_type": "stream",
     "text": [
      "L'Insoumis: truth: ['Drame'], pred: ['Thriller', 'Comédie', 'Drame']\n",
      "L'Echange des Princesses: truth: ['Drame', 'Historique'], pred: ['Thriller', 'Comédie', 'Drame']\n",
      "Le Graphique de Boscop: truth: ['Comédie'], pred: ['Thriller', 'Comédie', 'Drame']\n",
      "Absent: truth: ['Drame'], pred: ['Thriller', 'Comédie', 'Drame']\n",
      "Petite amie: truth: ['Comédie-dramatique'], pred: ['Thriller', 'Drame', 'Comédie']\n",
      "The Whole Gritty City: truth: ['Documentaire'], pred: ['Thriller', 'Comédie', 'Drame']\n",
      "Super 8: truth: ['Science-fiction'], pred: ['Comédie', 'Thriller', 'Drame']\n",
      "La Terre éphémère: truth: ['Drame'], pred: ['Thriller', 'Comédie', 'Drame']\n",
      "Dieu n'est pas mort: truth: ['Drame'], pred: ['Thriller', 'Comédie', 'Drame']\n",
      "Comment tuer son boss 2: truth: ['Comédie'], pred: ['Thriller', 'Comédie', 'Drame']\n"
     ]
    }
   ],
   "source": [
    "r = np.random.permutation(100)[:10]\n",
    "for i in r:\n",
    "    print('{}: truth: {}, pred: {}'.format(movies.loc[test_ids[i], 'title'], ground_truth[i], predictions[i]))\n",
    "#     print('Ground truth: {}, real: {}'.format(ground_truth[i], movies.loc[test_ids[i], 'genres']))"
   ]
  },
  {
   "cell_type": "code",
   "execution_count": null,
   "metadata": {},
   "outputs": [],
   "source": []
  }
 ],
 "metadata": {
  "kernelspec": {
   "display_name": "Python 3",
   "language": "python",
   "name": "python3"
  },
  "language_info": {
   "codemirror_mode": {
    "name": "ipython",
    "version": 3
   },
   "file_extension": ".py",
   "mimetype": "text/x-python",
   "name": "python",
   "nbconvert_exporter": "python",
   "pygments_lexer": "ipython3",
   "version": "3.5.3"
  }
 },
 "nbformat": 4,
 "nbformat_minor": 4
}
