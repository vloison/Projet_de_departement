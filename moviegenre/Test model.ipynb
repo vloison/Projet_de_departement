{
 "cells": [
  {
   "cell_type": "code",
   "execution_count": 1,
   "metadata": {},
   "outputs": [],
   "source": [
    "from pathlib import Path\n",
    "import pandas as pd\n",
    "from cnn.training import train_model\n",
    "import numpy as np\n",
    "\n",
    "Xtr_path = Path(\"../data/sets/unif_Xtr_tr=2000_test=100.npy\")\n",
    "Ytr_path = Path(\"../data/sets/unif_Ytr_tr=2000_test=100.npy\")\n",
    "\n",
    "Xtest_path = Path(\"../data/sets/unif_Xtest_tr=2000_test=100.npy\")\n",
    "Ytest_path = Path(\"../data/sets/unif_Ytest_tr=2000_test=100.npy\")\n",
    "\n",
    "IDStest = np.load(Path(\"../data/sets/unif_IDStest_tr=2000_test=100.npy\"))\n",
    "Ytest = np.load(Ytest_path)"
   ]
  },
  {
   "cell_type": "code",
   "execution_count": 2,
   "metadata": {},
   "outputs": [
    {
     "name": "stdout",
     "output_type": "stream",
     "text": [
      "Accuracy on testing set: 0.08470588235294117\n"
     ]
    }
   ],
   "source": [
    "predictions = train_model(\n",
    "    Xtr_path, Ytr_path, Xtest_path, Ytest_path, nb_epochs=5, model_path='../data/unif_first_model.h5')\n",
    "# predictions = train_model(\n",
    "#     Xtr_path, Ytr_path, Xtest_path, Ytest_path, nb_epochs=5, save_path='../data/unif_first_model.h5')\n",
    "# train_model(Xtr_path, Ytr_path, Xtest_path, Ytest_path, nb_epochs=5)"
   ]
  },
  {
   "cell_type": "code",
   "execution_count": 3,
   "metadata": {},
   "outputs": [
    {
     "name": "stdout",
     "output_type": "stream",
     "text": [
      "{0: 'Action', 1: 'Animation', 2: 'Aventure', 3: 'Biopic', 4: 'Comédie', 5: 'Comédie-dramatique', 6: 'Comédie-musicale', 7: 'Documentaire', 8: 'Drame', 9: 'Epouvante-horreur', 10: 'Fantastique', 11: 'Historique', 12: 'Policier', 13: 'Romance', 14: 'Science-fiction', 15: 'Thriller', 16: 'Western'}\n"
     ]
    }
   ],
   "source": [
    "from utils.constants import GENRES_DICT\n",
    "GENRES_INV = {value: key for key,value in GENRES_DICT.items()}\n",
    "print(GENRES_INV)"
   ]
  },
  {
   "cell_type": "code",
   "execution_count": 4,
   "metadata": {},
   "outputs": [],
   "source": [
    "from utils.constants import CLEAN_MOVIES_PATH\n",
    "from utils.preprocessing import read_csv_with_genres\n",
    "\n",
    "MOVIES = read_csv_with_genres(CLEAN_MOVIES_PATH)"
   ]
  },
  {
   "cell_type": "code",
   "execution_count": 15,
   "metadata": {},
   "outputs": [],
   "source": [
    "genres_predicted = [] \n",
    "for pred in predictions:\n",
    "    first3_index = np.argsort(pred)[-3:]\n",
    "    genres_predicted.append([GENRES_INV[k] for k in first3_index])\n",
    "        \n",
    "ground_truth = []\n",
    "for truth in Ytest:\n",
    "    first3_index = np.nonzero(truth)[0]\n",
    "#     print(first3_index)\n",
    "    ground_truth.append([GENRES_INV[k] for k in first3_index])"
   ]
  },
  {
   "cell_type": "code",
   "execution_count": 21,
   "metadata": {},
   "outputs": [
    {
     "name": "stdout",
     "output_type": "stream",
     "text": [
      "Les amis animaux: truth: ['Animation'], pred: ['Biopic', 'Drame', 'Comédie']\n",
      "K2 et les porteurs invisibles: truth: ['Documentaire'], pred: ['Drame', 'Animation', 'Comédie']\n",
      "Tout un monde lointain: truth: ['Drame'], pred: ['Drame', 'Biopic', 'Comédie']\n",
      "White Lightnin': truth: ['Drame'], pred: ['Biopic', 'Animation', 'Comédie']\n",
      "Le Lorax: truth: ['Animation', 'Comédie'], pred: ['Drame', 'Biopic', 'Comédie']\n",
      "Les Immortels: truth: ['Action', 'Aventure', 'Fantastique'], pred: ['Drame', 'Biopic', 'Comédie']\n",
      "Ceuta, douce prison: truth: ['Documentaire'], pred: ['Biopic', 'Drame', 'Comédie']\n",
      "Gentlemen Broncos: truth: ['Comédie'], pred: ['Biopic', 'Drame', 'Comédie']\n",
      "Le Roi du Curling: truth: ['Comédie'], pred: ['Biopic', 'Drame', 'Comédie']\n",
      "The Giver: truth: ['Drame', 'Fantastique', 'Science-fiction'], pred: ['Biopic', 'Comédie', 'Drame']\n"
     ]
    }
   ],
   "source": [
    "r = np.random.permutation(100)[:10]\n",
    "for i in r:\n",
    "    print('{}: truth: {}, pred: {}'.format(MOVIES.loc[IDStest[i], 'title'], ground_truth[i], genres_predicted[i]))\n",
    "#     print('Ground truth: {}, real: {}'.format(ground_truth[i], MOVIES.loc[IDStest[i], 'genres']))"
   ]
  },
  {
   "cell_type": "code",
   "execution_count": null,
   "metadata": {},
   "outputs": [],
   "source": []
  }
 ],
 "metadata": {
  "kernelspec": {
   "display_name": "Python 3",
   "language": "python",
   "name": "python3"
  },
  "language_info": {
   "codemirror_mode": {
    "name": "ipython",
    "version": 3
   },
   "file_extension": ".py",
   "mimetype": "text/x-python",
   "name": "python",
   "nbconvert_exporter": "python",
   "pygments_lexer": "ipython3",
   "version": "3.5.3"
  }
 },
 "nbformat": 4,
 "nbformat_minor": 4
}
