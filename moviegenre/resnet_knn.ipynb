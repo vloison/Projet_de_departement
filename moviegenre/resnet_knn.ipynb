{
 "cells": [
  {
   "cell_type": "code",
   "execution_count": null,
   "metadata": {},
   "outputs": [],
   "source": [
    "import argparse\n",
    "import numpy as np\n",
    "from get_data import main\n",
    "from cnn.training import get_trained_model"
   ]
  },
  {
   "cell_type": "code",
   "execution_count": null,
   "metadata": {},
   "outputs": [],
   "source": [
    "parser = argparse.ArgumentParser()\n",
    "parser.add_argument('--config', help='Path to the config file', default='./default_config.yml')\n",
    "parser.add_argument('--log-dir', help='Path to the log directory', default='../log/')\n",
    "parser.add_argument('--posters', help='Path to the posters', default='../data/posters/')\n",
    "parser.add_argument('--models-dir', help='Path to the saved models', default='../data/models/')\n",
    "parser.add_argument('--sets-dir', help='Path to the training and testing sets', default='../data/sets/')\n",
    "parser.add_argument('--database', help='Path to the databse csv', default='../data/poster_data.csv')\n",
    "parser.add_argument('--csv', help='Path to the clean csv', default='../data/')\n",
    "parser.add_argument('-s', '--save', help='Save model', action='store_true')\n",
    "parser.add_argument('-v', '--verbose', help='Verbose', action='store_true')\n",
    "\n",
    "str_args = '-v -s'.split()\n",
    "args, _ = parser.parse_known_args(str_args)"
   ]
  },
  {
   "cell_type": "code",
   "execution_count": null,
   "metadata": {},
   "outputs": [],
   "source": [
    "clean_movies, train_posters, train_genres, train_ids, test_posters, test_genres, test_ids, model_name, save_model, verbose = main(args)"
   ]
  },
  {
   "cell_type": "code",
   "execution_count": null,
   "metadata": {},
   "outputs": [],
   "source": [
    "resnet, _ = get_trained_model(model_name)"
   ]
  },
  {
   "cell_type": "code",
   "execution_count": null,
   "metadata": {},
   "outputs": [],
   "source": [
    "train_features_resnet = resnet.predict(train_posters).reshape((len(train_posters), -1))\n",
    "test_features_resnet = resnet.predict(test_posters).reshape((len(test_posters), -1))"
   ]
  },
  {
   "cell_type": "markdown",
   "metadata": {},
   "source": [
    "# PCA"
   ]
  },
  {
   "cell_type": "code",
   "execution_count": null,
   "metadata": {},
   "outputs": [],
   "source": [
    "from sklearn.decomposition import PCA\n",
    "\n",
    "pca_resnet = PCA(n_components=0.98)"
   ]
  },
  {
   "cell_type": "code",
   "execution_count": null,
   "metadata": {},
   "outputs": [],
   "source": [
    "from sklearn.preprocessing import StandardScaler\n",
    "\n",
    "SC = StandardScaler()\n",
    "SC.fit(train_features_resnet)\n",
    "train_features_resnet_stand = SC.transform(train_features_resnet)\n",
    "test_features_resnet_stand = SC.transform(test_features_resnet)"
   ]
  },
  {
   "cell_type": "code",
   "execution_count": null,
   "metadata": {},
   "outputs": [],
   "source": [
    "pca_resnet.fit(train_features_resnet_stand)"
   ]
  },
  {
   "cell_type": "code",
   "execution_count": null,
   "metadata": {},
   "outputs": [],
   "source": [
    "# train_resnet_pca = pca_resnet.transform(train_features_resnet)\n",
    "# test_resnet_pca = pca_resnet.transform(test_features_resnet)\n",
    "\n",
    "train_resnet_pca = pca_resnet.transform(train_features_resnet_stand)\n",
    "test_resnet_pca = pca_resnet.transform(test_features_resnet_stand)"
   ]
  },
  {
   "cell_type": "code",
   "execution_count": null,
   "metadata": {},
   "outputs": [],
   "source": [
    "print(train_features_resnet.shape[1], train_resnet_pca.shape[1])"
   ]
  },
  {
   "cell_type": "markdown",
   "metadata": {},
   "source": [
    "# KNN "
   ]
  },
  {
   "cell_type": "code",
   "execution_count": null,
   "metadata": {},
   "outputs": [],
   "source": [
    "from knn.knn import KNN\n",
    "\n",
    "k = 7\n",
    "knn = KNN(k)\n",
    "knn.fit(train_features_resnet, train_genres)"
   ]
  },
  {
   "cell_type": "code",
   "execution_count": null,
   "metadata": {},
   "outputs": [],
   "source": [
    "from utils.accuracy import mono_label\n",
    "\n",
    "predicted_genres = knn.predict(test_features_resnet, train_genres)\n",
    "mono_label(test_genres, predicted_genres)"
   ]
  },
  {
   "cell_type": "markdown",
   "metadata": {},
   "source": [
    "# XGBoost"
   ]
  },
  {
   "cell_type": "code",
   "execution_count": null,
   "metadata": {},
   "outputs": [],
   "source": [
    "import xgboost as xgb\n",
    "from xgboost import XGBClassifier\n",
    "\n",
    "train_genres_flat = np.array([np.nonzero(x)[0] for x in train_genres]).squeeze()\n",
    "boost = XGBClassifier(objective='multi:softmax', num_classes=7)\n",
    "boost.fit(train_resnet_pca, train_genres_flat)"
   ]
  },
  {
   "cell_type": "code",
   "execution_count": null,
   "metadata": {},
   "outputs": [],
   "source": [
    "predicted_genres = boost.predict(test_resnet_pca)\n",
    "test_genres_flat = np.array([np.nonzero(x)[0] for x in test_genres]).squeeze()"
   ]
  },
  {
   "cell_type": "code",
   "execution_count": null,
   "metadata": {},
   "outputs": [],
   "source": [
    "# boost.save_model('current.model')\n",
    "np.mean(test_genres_flat == predicted_genres)"
   ]
  },
  {
   "cell_type": "code",
   "execution_count": null,
   "metadata": {},
   "outputs": [],
   "source": [
    "plt.bar(range(len(boost.feature_importances_)), boost.feature_importances_)\n",
    "plt.show()"
   ]
  },
  {
   "cell_type": "markdown",
   "metadata": {},
   "source": [
    "# SVM"
   ]
  },
  {
   "cell_type": "code",
   "execution_count": null,
   "metadata": {},
   "outputs": [],
   "source": [
    "from sklearn.svm import SVC\n",
    "from sklearn.multiclass import OneVsRestClassifier # Regarder les autres multiclass possibles\n",
    "# J'ai testé vite fait OneVsOne: pb de dimension, autre format d'input attendu\n",
    "\n",
    "svc = OneVsRestClassifier(SVC(gamma='auto'))\n",
    "svc.fit(train_resnet_pca, train_genres)"
   ]
  },
  {
   "cell_type": "code",
   "execution_count": null,
   "metadata": {},
   "outputs": [],
   "source": [
    "from utils.accuracy import mono_label\n",
    "\n",
    "predicted_genres = svc.predict(test_resnet_pca)\n",
    "mono_label(test_genres, predicted_genres)"
   ]
  },
  {
   "cell_type": "markdown",
   "metadata": {},
   "source": [
    "# Analyse des résultats"
   ]
  },
  {
   "cell_type": "code",
   "execution_count": null,
   "metadata": {},
   "outputs": [],
   "source": [
    "import yaml\n",
    "\n",
    "config = yaml.safe_load(open(args.config))\n",
    "class_names = {config['genres'][k]: k for k in config['genres'].keys()}"
   ]
  },
  {
   "cell_type": "code",
   "execution_count": null,
   "metadata": {},
   "outputs": [],
   "source": [
    "from utils.display.results_display import ConfusionMatrix_display\n",
    "\n",
    "title = 'ResNet+kNN, k='+str(k) \n",
    "ConfusionMatrix_display(test_genres, predicted_genres, config['genres'], title)"
   ]
  },
  {
   "cell_type": "code",
   "execution_count": null,
   "metadata": {},
   "outputs": [],
   "source": [
    "from utils.display.results_display import histogram\n",
    "\n",
    "histogram(test_genres, predicted_genres, k, config['genres'])"
   ]
  },
  {
   "cell_type": "code",
   "execution_count": null,
   "metadata": {},
   "outputs": [],
   "source": [
    "from utils.display.results_display import plot_neighbors\n",
    "%matplotlib inline\n",
    "\n",
    "starting_index = np.random.randint(0, 700)\n",
    "num_images = 5\n",
    "plot_neighbors(test_posters, test_genres, class_names, predicted_genres, starting_index, num_images, train_posters, train_genres, knn.neighbors,str(starting_index))"
   ]
  },
  {
   "cell_type": "markdown",
   "metadata": {},
   "source": [
    "Affichage de la matrice de confusion"
   ]
  },
  {
   "cell_type": "markdown",
   "metadata": {},
   "source": [
    "## PCA 2D"
   ]
  },
  {
   "cell_type": "code",
   "execution_count": null,
   "metadata": {},
   "outputs": [],
   "source": [
    "import matplotlib.pyplot as plt\n",
    "\n",
    "def display2D(X_ortho, Y):\n",
    "    colors = Y.argmax(axis=1)\n",
    "    \n",
    "    fig = plt.figure(figsize=(10, 10))\n",
    "    scatter = plt.scatter(X_ortho[:, 0], X_ortho[:, 1], c=colors)\n",
    "    plt.legend(*scatter.legend_elements())\n",
    "    \n",
    "    plt.show(fig)"
   ]
  },
  {
   "cell_type": "code",
   "execution_count": null,
   "metadata": {},
   "outputs": [],
   "source": [
    "pca = PCA(n_components=2)\n",
    "# pca.fit(train_posters.reshape(len(train_posters), -1))\n",
    "\n",
    "train_pca = pca.transform(train_posters.reshape(len(train_posters), -1))\n",
    "# test_pca = pca.transform(test_posters.reshape(len(train_posters), -1))\n",
    "\n",
    "display2D(train_pca, train_genres)\n",
    "display2D(train_resnet_pca[:, :2], train_genres)\n",
    "\n",
    "#Attention: l'erreur dans la VM vient de la version de matplotlib; et upgrade vers matplotlib 3.1.X pas possible\n",
    "#Changer version Python..."
   ]
  }
 ],
 "metadata": {
  "kernelspec": {
   "display_name": "Python 3",
   "language": "python",
   "name": "python3"
  },
  "language_info": {
   "codemirror_mode": {
    "name": "ipython",
    "version": 3
   },
   "file_extension": ".py",
   "mimetype": "text/x-python",
   "name": "python",
   "nbconvert_exporter": "python",
   "pygments_lexer": "ipython3",
   "version": "3.5.3"
  }
 },
 "nbformat": 4,
 "nbformat_minor": 4
}
