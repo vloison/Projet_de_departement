{
 "cells": [
  {
   "cell_type": "markdown",
   "metadata": {},
   "source": [
    "Ce notebook sert de base pour l'entraînement du réseau avec transfer learning."
   ]
  },
  {
   "cell_type": "markdown",
   "metadata": {},
   "source": [
    "# Training and testing"
   ]
  },
  {
   "cell_type": "code",
   "execution_count": null,
   "metadata": {},
   "outputs": [],
   "source": [
    "import tensorflow as tf\n",
    "# import tensorflow_addons as tfa \n",
    "# Peut servir pour utiliser des variations d'Adam ou pour faire plus de data augmentation\n",
    "import pathlib\n",
    "import numpy as np\n",
    "import matplotlib.pyplot as plt\n",
    "import os"
   ]
  },
  {
   "cell_type": "code",
   "execution_count": null,
   "metadata": {},
   "outputs": [],
   "source": [
    "# Nombre de GPU détectés\n",
    "strategy = tf.distribute.MirroredStrategy()\n",
    "print('Number of devices: {}'.format(strategy.num_replicas_in_sync))"
   ]
  },
  {
   "cell_type": "markdown",
   "metadata": {},
   "source": [
    "## Move posters to use the data loader"
   ]
  },
  {
   "cell_type": "code",
   "execution_count": null,
   "metadata": {},
   "outputs": [],
   "source": [
    "import pandas as pd\n",
    "\n",
    "source = pathlib.Path('../data/posters')\n",
    "movefiles = pd.read_csv('../data/movefiles.csv')\n",
    "\n",
    "for cat in movefiles.category.unique():\n",
    "    p = source/cat\n",
    "    p.mkdir()\n",
    "    for genre in movefiles.genre.unique():\n",
    "        q = p/genre\n",
    "        q.mkdir()\n",
    "\n",
    "p = source/'autres'\n",
    "p.mkdir()\n",
    "\n",
    "for i, row in movefiles.iterrows():\n",
    "    s = source/row['name']\n",
    "    if s.exists():\n",
    "        s.replace(source/row['category']/row['genre']/row['name'])\n",
    "\n",
    "for autre in source.glob('*.jpg'):\n",
    "    autre.replace(source/'autres'/autre.name)"
   ]
  },
  {
   "cell_type": "markdown",
   "metadata": {},
   "source": [
    "## Data loader and data augmentation"
   ]
  },
  {
   "cell_type": "code",
   "execution_count": null,
   "metadata": {},
   "outputs": [],
   "source": [
    "data_dir = pathlib.Path('../data/posters')\n",
    "\n",
    "AUTOTUNE = tf.data.experimental.AUTOTUNE\n",
    "\n",
    "BATCH_SIZE = 32\n",
    "IMG_HEIGHT = 256\n",
    "IMG_WIDTH = 256\n",
    "\n",
    "NUMBER_TRAIN_SAMPLES = len(list((data_dir/'train').glob('*/*')))\n",
    "NUMBER_VAL_SAMPLES = len(list((data_dir/'val').glob('*/*')))\n",
    "NUMBER_TEST_SAMPLES = len(list((data_dir/'test').glob('*/*')))\n",
    "\n",
    "STEP_SIZE_TRAIN = int(np.ceil(NUMBER_TRAIN_SAMPLES/BATCH_SIZE))\n",
    "STEP_SIZE_VAL = int(np.ceil(NUMBER_VAL_SAMPLES/BATCH_SIZE))\n",
    "STEP_SIZE_TEST = int(np.ceil(NUMBER_TEST_SAMPLES/BATCH_SIZE))\n",
    "\n",
    "CLASS_NAMES = np.array(['Action', 'Animation', 'Comédie', 'Comédie-dramatique', 'Documentaire', 'Drame', 'Thriller-Policier'])"
   ]
  },
  {
   "cell_type": "code",
   "execution_count": null,
   "metadata": {},
   "outputs": [],
   "source": [
    "# Le code pour le data loader est adapté de: https://www.tensorflow.org/tutorials/load_data/images\n",
    "\n",
    "def get_label(file_path):\n",
    "    # convert the path to a list of path components\n",
    "    parts = tf.strings.split(file_path, os.path.sep)\n",
    "    # The second to last is the class-directory\n",
    "    return parts[-2] == CLASS_NAMES\n",
    "\n",
    "def decode_img(img):\n",
    "    # convert the compressed string to a 3D uint8 tensor\n",
    "    img = tf.image.decode_jpeg(img, channels=3)\n",
    "    return tf.image.resize(img, [IMG_WIDTH, IMG_HEIGHT], method='lanczos3')\n",
    "\n",
    "def process_path(file_path):\n",
    "    label = get_label(file_path)\n",
    "    # load the raw data from the file as a string\n",
    "    img = tf.io.read_file(file_path)\n",
    "    img = decode_img(img)\n",
    "    return img, label"
   ]
  },
  {
   "cell_type": "code",
   "execution_count": null,
   "metadata": {},
   "outputs": [],
   "source": [
    "from classification_models.tfkeras import Classifiers\n",
    "\n",
    "# ResNet18 pas disponible dans keras\n",
    "ResNet18, preprocess_input = Classifiers.get('resnet18')\n",
    "\n",
    "def augment(image,label):\n",
    "    image = tf.image.random_flip_left_right(image)\n",
    "#     image = tf.image.random_flip_up_down(image)\n",
    "    image = tf.image.random_hue(image, 0.1)\n",
    "    image = tf.image.random_saturation(image, 0.5, 2)\n",
    "    image = tf.image.random_brightness(image, 0.3)\n",
    "    image = tf.image.random_contrast(image, 0.2, 1.8)\n",
    "#     image = tf.image.rot90(image, tf.random.uniform(shape=[], minval=0, maxval=4, dtype=tf.int32))\n",
    "    padding = 50\n",
    "    image = tf.image.resize_with_crop_or_pad(image, IMG_WIDTH+padding, IMG_HEIGHT+padding)\n",
    "    image = tf.image.random_crop(image, size=[IMG_WIDTH, IMG_HEIGHT, 3])\n",
    "    return image, label\n",
    "\n",
    "\n",
    "def prepare_data(ds, phase, shuffle_buffer_size=1000):\n",
    "    ds = ds.shuffle(buffer_size=shuffle_buffer_size)\n",
    "    ds = ds.repeat()\n",
    "    if phase == 'train':\n",
    "        ds = ds.map(augment, num_parallel_calls=AUTOTUNE)\n",
    "    # Important de faire le preprocessing nécessaire pour ResNet18, et de le faire à ce moment là après augmentation\n",
    "    ds.map(lambda img, l : (preprocess_input(img), l), num_parallel_calls=AUTOTUNE)\n",
    "    ds = ds.batch(BATCH_SIZE)\n",
    "    # `prefetch` lets the dataset fetch batches in the background while the model\n",
    "    # is training.\n",
    "    ds = ds.prefetch(buffer_size=AUTOTUNE)       \n",
    "    return ds"
   ]
  },
  {
   "cell_type": "code",
   "execution_count": null,
   "metadata": {},
   "outputs": [],
   "source": [
    "list_ds = {x : tf.data.Dataset.list_files(str(data_dir/x/'*/*')) for x in ['train', 'val', 'test']}\n",
    "labeled_ds = {x : list_ds[x].map(process_path, num_parallel_calls=AUTOTUNE) for x in ['train', 'val', 'test']}\n",
    "dataset = {x: prepare_data(labeled_ds[x], x) for x in ['train', 'val', 'test']}"
   ]
  },
  {
   "cell_type": "markdown",
   "metadata": {},
   "source": [
    "## Build the model"
   ]
  },
  {
   "cell_type": "code",
   "execution_count": null,
   "metadata": {},
   "outputs": [],
   "source": [
    "with strategy.scope():\n",
    "    base_model = ResNet18((IMG_WIDTH, IMG_HEIGHT, 3), include_top=False, weights='imagenet')\n",
    "    base_model.trainable = False\n",
    "    global_average_layer = tf.keras.layers.GlobalAveragePooling2D()\n",
    "    prediction_layer = tf.keras.layers.Dense(7, activation=\"softmax\")\n",
    "\n",
    "    model = tf.keras.Sequential([\n",
    "      base_model,\n",
    "      global_average_layer,\n",
    "      prediction_layer\n",
    "    ])"
   ]
  },
  {
   "cell_type": "code",
   "execution_count": null,
   "metadata": {},
   "outputs": [],
   "source": [
    "# Adapté de https://www.tensorflow.org/tutorials/distribute/keras\n",
    "\n",
    "# Define the checkpoint directory to store the checkpoints\n",
    "checkpoint_dir = '../data/checkpoints'\n",
    "# Name of the checkpoint files\n",
    "checkpoint_prefix = os.path.join(checkpoint_dir, \"ckpt_{epoch}\")\n",
    "\n",
    "# Function for decaying the learning rate.\n",
    "# You can define any decay function you need.\n",
    "def decay(epoch):\n",
    "    if epoch <= 15:\n",
    "        return 1e-3\n",
    "    elif epoch > 15 and epoch <= 30:\n",
    "        return 1e-5\n",
    "    elif epoch > 30 and epoch <= 60:\n",
    "        return 1e-6\n",
    "    elif epoch > 60 and epoch <= 90:\n",
    "        return 1e-7\n",
    "    else:\n",
    "        return 1e-8\n",
    "\n",
    "# Callback for printing the LR at the end of each epoch.\n",
    "class PrintLR(tf.keras.callbacks.Callback):\n",
    "      def on_epoch_end(self, epoch, logs=None):\n",
    "            print('\\nLearning rate for epoch {} is {}'.format(epoch + 1,\n",
    "                                                      model.optimizer.lr.numpy()))\n",
    "\n",
    "callbacks = [\n",
    "    tf.keras.callbacks.TensorBoard(log_dir='./logs'),\n",
    "    tf.keras.callbacks.ModelCheckpoint(filepath=checkpoint_prefix,\n",
    "                                       save_weights_only=True),\n",
    "    tf.keras.callbacks.LearningRateScheduler(decay),\n",
    "    PrintLR()\n",
    "]"
   ]
  },
  {
   "cell_type": "code",
   "execution_count": null,
   "metadata": {},
   "outputs": [],
   "source": [
    "model.summary()"
   ]
  },
  {
   "cell_type": "code",
   "execution_count": null,
   "metadata": {},
   "outputs": [],
   "source": [
    "model.compile(optimizer=tf.optimizers.Adam(),\n",
    "          loss=tf.keras.losses.CategoricalCrossentropy(from_logits=True),\n",
    "          metrics=['accuracy'])"
   ]
  },
  {
   "cell_type": "code",
   "execution_count": null,
   "metadata": {
    "scrolled": false
   },
   "outputs": [],
   "source": [
    "# Entraînement initial, uniquement la dernière couche\n",
    "\n",
    "initial_epochs = 30\n",
    "history = model.fit(dataset['train'],\n",
    "                    epochs=initial_epochs,\n",
    "                    validation_data=dataset['val'],\n",
    "                    steps_per_epoch=STEP_SIZE_TRAIN,\n",
    "                    validation_steps=STEP_SIZE_VAL,\n",
    "                    callbacks=callbacks,\n",
    "                    )"
   ]
  },
  {
   "cell_type": "code",
   "execution_count": null,
   "metadata": {},
   "outputs": [],
   "source": [
    "loss0,accuracy0 = model.evaluate(dataset['test'], steps=STEP_SIZE_TEST)\n",
    "print(accuracy0)"
   ]
  },
  {
   "cell_type": "code",
   "execution_count": null,
   "metadata": {},
   "outputs": [],
   "source": [
    "model.layers[0].trainable = True # Dégèle tout le reste du réseau en une fois\n",
    "\n",
    "model.compile(optimizer=tf.keras.optimizers.Adam(),\n",
    "              loss=tf.keras.losses.CategoricalCrossentropy(from_logits=True),\n",
    "              metrics=['accuracy'])\n",
    "\n",
    "total_epochs =  130"
   ]
  },
  {
   "cell_type": "code",
   "execution_count": null,
   "metadata": {},
   "outputs": [],
   "source": [
    "model.summary()"
   ]
  },
  {
   "cell_type": "code",
   "execution_count": null,
   "metadata": {
    "scrolled": false
   },
   "outputs": [],
   "source": [
    "# Fine-tuning: ajuster les learning rates dans la fonction decay utilisée dans callbacks\n",
    "\n",
    "history2 = model.fit(dataset['train'],\n",
    "                    epochs=total_epochs,\n",
    "                    initial_epoch=history.epoch[-1],\n",
    "                    validation_data=dataset['val'],\n",
    "                    steps_per_epoch=STEP_SIZE_TRAIN,\n",
    "                    validation_steps=STEP_SIZE_VAL,\n",
    "                    callbacks=callbacks,\n",
    "                    )"
   ]
  },
  {
   "cell_type": "code",
   "execution_count": null,
   "metadata": {},
   "outputs": [],
   "source": [
    "loss1, accuracy1 = model.evaluate(dataset['test'], steps=STEP_SIZE_TEST)\n",
    "print(accuracy1)"
   ]
  },
  {
   "cell_type": "markdown",
   "metadata": {},
   "source": [
    "# Results"
   ]
  },
  {
   "cell_type": "code",
   "execution_count": null,
   "metadata": {},
   "outputs": [],
   "source": [
    "acc = history.history['accuracy'] + history2.history['accuracy'] \n",
    "val_acc = history.history['val_accuracy'] + history2.history['val_accuracy'] \n",
    "\n",
    "loss = history.history['loss'] + history2.history['loss'] \n",
    "val_loss = history.history['val_loss'] + history2.history['val_loss'] \n",
    "\n",
    "plt.figure(figsize=(8, 8))\n",
    "plt.subplot(2, 1, 1)\n",
    "plt.plot(acc, label='Training Accuracy')\n",
    "plt.plot(val_acc, label='Validation Accuracy')\n",
    "plt.plot([initial_epochs-1,initial_epochs-1],\n",
    "          plt.ylim(), label='Start Fine Tuning')\n",
    "plt.legend(loc='lower right')\n",
    "plt.title('Training and Validation Accuracy')\n",
    "\n",
    "plt.subplot(2, 1, 2)\n",
    "plt.plot(loss, label='Training Loss')\n",
    "plt.plot(val_loss, label='Validation Loss')\n",
    "plt.plot([initial_epochs-1,initial_epochs-1],\n",
    "         plt.ylim(), label='Start Fine Tuning')\n",
    "plt.legend(loc='upper right')\n",
    "plt.title('Training and Validation Loss')\n",
    "plt.xlabel('epoch')\n",
    "plt.show()"
   ]
  },
  {
   "cell_type": "code",
   "execution_count": null,
   "metadata": {},
   "outputs": [],
   "source": [
    "# model = tf.keras.models.load_model('../data/final_model.h5')"
   ]
  },
  {
   "cell_type": "code",
   "execution_count": null,
   "metadata": {},
   "outputs": [],
   "source": [
    "def show_batch(image_batch, label_batch):\n",
    "    plt.figure(figsize=(10,10))\n",
    "    for n in range(25):\n",
    "        ax = plt.subplot(5,5,n+1)\n",
    "        plt.imshow(image_batch[n]/255)\n",
    "        plt.title(CLASS_NAMES[label_batch[n].numpy()==1][0].title())\n",
    "        plt.axis('off')"
   ]
  },
  {
   "cell_type": "code",
   "execution_count": null,
   "metadata": {},
   "outputs": [],
   "source": [
    "# Sûrement des warnings liés au mauvais intervalle de valeurs -> à cause du preprocessing pour ResNet18\n",
    "\n",
    "image_batch, label_batch = next(iter(dataset['train']))\n",
    "show_batch(image_batch, label_batch)"
   ]
  },
  {
   "cell_type": "code",
   "execution_count": null,
   "metadata": {},
   "outputs": [],
   "source": [
    "def plot_image(img, ground_truth_array, class_names, predictions_array, in_test=True, distance=0):\n",
    "    plt.grid(False)\n",
    "    plt.xticks([])\n",
    "    plt.yticks([])\n",
    "\n",
    "    plt.imshow(img/255, cmap=plt.cm.binary)\n",
    "\n",
    "    true_label = np.argmax(ground_truth_array)\n",
    "    predicted_label = np.argmax(predictions_array)\n",
    "    if in_test:\n",
    "        if predicted_label == true_label:\n",
    "            color = 'blue'\n",
    "        else:\n",
    "            color = 'red'\n",
    "        plt.xlabel(\"Préd:{} {:2.0f}% \\n({})\".format(class_names[predicted_label],\n",
    "            100*np.max(predictions_array),\n",
    "            'L:'+class_names[true_label]),\n",
    "            color=color)\n",
    "    else:\n",
    "        if predicted_label == true_label:\n",
    "            color = 'blue'\n",
    "        else:\n",
    "            color = 'black'\n",
    "        plt.xlabel(\"{} \\n Distance:{}\".format(class_names[true_label], distance), color=color)\n",
    "\n",
    "def plot_value_array(ground_truth_array, predictions_array):\n",
    "    plt.grid(False)\n",
    "    plt.xticks(range(len(predictions_array)))\n",
    "    plt.yticks([])\n",
    "\n",
    "    thisplot = plt.bar(range(len(predictions_array)), predictions_array, color=\"#777777\")\n",
    "    plt.ylim([0, 1])\n",
    "    thisplot[np.argmax(predictions_array)].set_color('red')\n",
    "    thisplot[np.argmax(ground_truth_array)].set_color('blue')\n",
    "\n",
    "\n",
    "def plot_batch_results(batch, predictions, name=None):\n",
    "\n",
    "    num_images = len(batch[1])\n",
    "    num_cols, num_rows = 4, 1+num_images//4\n",
    "    plt.figure(figsize=(2 * 2 * num_cols, 2 * num_rows))\n",
    "    for i in range(num_images):\n",
    "        plt.subplot(num_rows, 2 * num_cols, 2*i+1)\n",
    "        plot_image(batch[0][i], batch[1][i], CLASS_NAMES, predictions[i])\n",
    "\n",
    "        plt.subplot(num_rows, 2 * num_cols, 2*i+2)\n",
    "        plot_value_array(batch[1][i], predictions[i])\n",
    "\n",
    "    plt.tight_layout()\n",
    "    if name is not None:\n",
    "        plt.savefig(name)"
   ]
  },
  {
   "cell_type": "code",
   "execution_count": null,
   "metadata": {
    "scrolled": false
   },
   "outputs": [],
   "source": [
    "batch = next(iter(dataset['test']))\n",
    "prediction = model.predict(batch)\n",
    "plot_batch_results(batch, prediction)"
   ]
  },
  {
   "cell_type": "code",
   "execution_count": null,
   "metadata": {},
   "outputs": [],
   "source": [
    "from sklearn.metrics import ConfusionMatrixDisplay, confusion_matrix\n",
    "\n",
    "labels = []\n",
    "predictions = []\n",
    "k = 0\n",
    "\n",
    "for batch in iter(dataset['test']):\n",
    "    proba = model.predict(batch)\n",
    "    predictions += list(np.argmax(proba, axis=1))\n",
    "    labels += list(np.argmax(batch[1].numpy(), axis=1))\n",
    "    k += 1\n",
    "    if k == STEP_SIZE_TEST+1:\n",
    "        break\n",
    "\n",
    "        \n",
    "conf_matrix = confusion_matrix(labels, predictions, normalize='true')\n",
    "disp = ConfusionMatrixDisplay(confusion_matrix=conf_matrix, display_labels=CLASS_NAMES)\n",
    "\n",
    "disp.plot(cmap=plt.cm.coolwarm_r, xticks_rotation='vertical')\n",
    "plt.title('Matrice de confusion')"
   ]
  },
  {
   "cell_type": "markdown",
   "metadata": {},
   "source": [
    "# Keras preprocessing : not used"
   ]
  },
  {
   "cell_type": "code",
   "execution_count": null,
   "metadata": {},
   "outputs": [],
   "source": [
    "from classification_models.tfkeras import Classifiers\n",
    "\n",
    "ResNet18, preprocess_input = Classifiers.get('resnet18')\n",
    "\n",
    "image_generator ={\n",
    "    'train': tf.keras.preprocessing.image.ImageDataGenerator(\n",
    "                                                    rotation_range=20,\n",
    "                                                    width_shift_range=.15,\n",
    "                                                    height_shift_range=.15,\n",
    "                                                    horizontal_flip=True,\n",
    "#                                                     vertical_flip=True,\n",
    "                                                    brightness_range=(0.8, 1.2),\n",
    "                                                    zoom_range=0.2,\n",
    "                                                    shear_range=0.1,\n",
    "                                                    preprocessing_function=preprocess_input\n",
    "                                                    ),\n",
    "    'val': tf.keras.preprocessing.image.ImageDataGenerator(\n",
    "                                            preprocessing_function=preprocess_input\n",
    "                                            ),\n",
    "    'test': tf.keras.preprocessing.image.ImageDataGenerator(\n",
    "                                            preprocessing_function=preprocess_input\n",
    "                                            ),\n",
    "}\n",
    "\n",
    "dataset = {x: image_generator[x].flow_from_directory(directory=str(data_dir/x),\n",
    "                                                     batch_size=BATCH_SIZE,\n",
    "                                                     shuffle=True,\n",
    "                                                     target_size=(IMG_HEIGHT, IMG_WIDTH),\n",
    "                                                     interpolation='bilinear')\n",
    "           for x in ['train', 'val', 'test']\n",
    "}"
   ]
  },
  {
   "cell_type": "code",
   "execution_count": null,
   "metadata": {},
   "outputs": [],
   "source": [
    "def plotImages(images_arr):\n",
    "    fig, axes = plt.subplots(1, 5, figsize=(20,20))\n",
    "    axes = axes.flatten()\n",
    "    for img, ax in zip( images_arr, axes):\n",
    "        ax.imshow(img/255)\n",
    "        ax.axis('off')\n",
    "    plt.tight_layout()\n",
    "    plt.show()"
   ]
  },
  {
   "cell_type": "code",
   "execution_count": null,
   "metadata": {},
   "outputs": [],
   "source": [
    "augmented_images = [dataset['train'][0][0][0] for i in range(5)]\n",
    "plotImages(augmented_images)"
   ]
  }
 ],
 "metadata": {
  "kernelspec": {
   "display_name": "Python 3",
   "language": "python",
   "name": "python3"
  },
  "language_info": {
   "codemirror_mode": {
    "name": "ipython",
    "version": 3
   },
   "file_extension": ".py",
   "mimetype": "text/x-python",
   "name": "python",
   "nbconvert_exporter": "python",
   "pygments_lexer": "ipython3",
   "version": "3.5.3"
  }
 },
 "nbformat": 4,
 "nbformat_minor": 4
}
