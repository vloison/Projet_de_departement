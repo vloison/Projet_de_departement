{
 "cells": [
  {
   "cell_type": "code",
   "execution_count": 1,
   "metadata": {},
   "outputs": [],
   "source": [
    "import argparse\n",
    "from get_data import main\n",
    "from cnn.training import get_trained_model"
   ]
  },
  {
   "cell_type": "code",
   "execution_count": 2,
   "metadata": {},
   "outputs": [],
   "source": [
    "parser = argparse.ArgumentParser()\n",
    "parser.add_argument('--config', help='Path to the config file', default='./default_config.yml')\n",
    "parser.add_argument('--log-dir', help='Path to the log directory', default='../log/')\n",
    "parser.add_argument('--posters', help='Path to the posters', default='../data/posters/')\n",
    "parser.add_argument('--models-dir', help='Path to the saved models', default='../data/models/')\n",
    "parser.add_argument('--sets-dir', help='Path to the training and testing sets', default='../data/sets/')\n",
    "parser.add_argument('--database', help='Path to the databse csv', default='../data/poster_data.csv')\n",
    "parser.add_argument('--csv', help='Path to the clean csv', default='../data/')\n",
    "parser.add_argument('-s', '--save', help='Save model', action='store_true')\n",
    "parser.add_argument('-v', '--verbose', help='Verbose', action='store_true')\n",
    "\n",
    "str_args = '-v -s --config ./transfer_learning.yml'.split()\n",
    "args, _ = parser.parse_known_args(str_args)"
   ]
  },
  {
   "cell_type": "code",
   "execution_count": 3,
   "metadata": {},
   "outputs": [
    {
     "name": "stderr",
     "output_type": "stream",
     "text": [
      "  5%|▍         | 541/11935 [00:00<00:02, 5407.36it/s]"
     ]
    },
    {
     "name": "stdout",
     "output_type": "stream",
     "text": [
      "Database already cleaned\n",
      "Posters database downloading\n"
     ]
    },
    {
     "name": "stderr",
     "output_type": "stream",
     "text": [
      " 86%|████████▋ | 10319/11935 [00:07<00:03, 466.72it/s]"
     ]
    },
    {
     "name": "stdout",
     "output_type": "stream",
     "text": [
      "Error HTTP Error 404: Not Found with film 9532\n"
     ]
    },
    {
     "name": "stderr",
     "output_type": "stream",
     "text": [
      "100%|██████████| 11935/11935 [00:08<00:00, 1474.32it/s]\n"
     ]
    },
    {
     "name": "stdout",
     "output_type": "stream",
     "text": [
      "Database downloaded\n",
      "Training and testing sets already made\n"
     ]
    }
   ],
   "source": [
    "clean_movies, train_posters, train_genres, train_ids, test_posters, test_genres, test_ids, model_name, save_model, verbose = main(args)\n",
    "clean_movies.set_index('allocine_id', inplace=True)"
   ]
  },
  {
   "cell_type": "code",
   "execution_count": 4,
   "metadata": {},
   "outputs": [
    {
     "name": "stdout",
     "output_type": "stream",
     "text": [
      "Model already trained\n",
      "No training history\n"
     ]
    }
   ],
   "source": [
    "custom_resnet, training_history = get_trained_model(model_name, train_posters, train_genres)"
   ]
  },
  {
   "cell_type": "code",
   "execution_count": null,
   "metadata": {},
   "outputs": [],
   "source": [
    "predicted_genres = custom_resnet.predict(test_posters)"
   ]
  },
  {
   "cell_type": "code",
   "execution_count": null,
   "metadata": {},
   "outputs": [],
   "source": [
    "from utils.display.training_display import plot_loss, plot_accuracy\n",
    "from utils.accuracy import mono_label\n",
    "%matplotlib inline\n",
    "\n",
    "print(mono_label(test_genres, predicted_genres))\n",
    "if training_history is not None:\n",
    "    plot_loss(training_history)\n",
    "    plot_accuracy(training_history)"
   ]
  },
  {
   "cell_type": "code",
   "execution_count": null,
   "metadata": {},
   "outputs": [],
   "source": [
    "import yaml\n",
    "config = yaml.safe_load(open(args.config))\n",
    "genres_inv = {config['genres'][k]: k for k in config['genres'].keys()}\n",
    "print(genres_inv)"
   ]
  },
  {
   "cell_type": "code",
   "execution_count": null,
   "metadata": {},
   "outputs": [],
   "source": [
    "import numpy as np\n",
    "\n",
    "# FOR MULTI LABEL\n",
    "# predictions = [] \n",
    "# for pred in predicted_genres:\n",
    "#     first3_index = np.argsort(pred)[-3:]\n",
    "#     predictions.append([genres_inv[k] for k in first3_index])\n",
    "# ground_truth = []\n",
    "# for truth in test_genres:\n",
    "#     first3_index = np.nonzero(truth)[0]\n",
    "#     ground_truth.append([genres_inv[k] for k in first3_index])\n",
    "\n",
    "predictions = np.array([genres_inv[k] for k in np.argmax(predicted_genres, axis=1)])\n",
    "ground_truth = np.array([genres_inv[k] for k in np.argmax(test_genres, axis=1)])"
   ]
  },
  {
   "cell_type": "code",
   "execution_count": null,
   "metadata": {},
   "outputs": [],
   "source": [
    "r = np.random.permutation(100)[:10]\n",
    "for i in r:\n",
    "    print('{}: truth: {}, pred: {}'.format(clean_movies.loc[test_ids[i], 'title'], ground_truth[i], predictions[i]))\n",
    "#     print('Ground truth: {}, real: {}'.format(ground_truth[i], movies.loc[test_ids[i], 'genres']))"
   ]
  },
  {
   "cell_type": "code",
   "execution_count": null,
   "metadata": {},
   "outputs": [],
   "source": [
    "genres = genres_inv.values()\n",
    "\n",
    "results_per_genre = {\n",
    "    genre_true : {genre_pred : 0 for genre_pred in genres}\n",
    "    for genre_true in genres\n",
    "}\n",
    "\n",
    "total_per_genre = {\n",
    "    genre : 0\n",
    "    for genre in genres\n",
    "}\n",
    "\n",
    "n = len(predictions)\n",
    "for i in range(n):\n",
    "    results_per_genre[ground_truth[i]][predictions[i]] += 1\n",
    "    total_per_genre[ground_truth[i]] += 1\n",
    "\n",
    "for genre_true in genres:\n",
    "    print(\n",
    "        genre_true + \" (\" + str(total_per_genre[genre_true] / n) + \"):\"\n",
    "    )\n",
    "    for genre_pred in genres:\n",
    "        print(\n",
    "            \"    \" + genre_pred + \": \" + str(\n",
    "                results_per_genre[genre_true][genre_pred] / total_per_genre[genre_true]\n",
    "            )\n",
    "        )\n",
    "    print()"
   ]
  },
  {
   "cell_type": "code",
   "execution_count": null,
   "metadata": {},
   "outputs": [],
   "source": [
    "%%javascript\n",
    "IPython.OutputArea.prototype._should_scroll = function(lines) {\n",
    "    return false;\n",
    "}"
   ]
  },
  {
   "cell_type": "code",
   "execution_count": null,
   "metadata": {},
   "outputs": [],
   "source": [
    "from utils.display.results_display import plot_test_results\n",
    "\n",
    "starting_index = 10\n",
    "num_row, num_cols = 10, 4\n",
    "plot_test_results(test_posters, test_genres, genres_inv, predicted_genres, starting_index, num_row, num_cols)"
   ]
  },
  {
   "cell_type": "code",
   "execution_count": null,
   "metadata": {},
   "outputs": [],
   "source": []
  }
 ],
 "metadata": {
  "kernelspec": {
   "display_name": "Python 3",
   "language": "python",
   "name": "python3"
  },
  "language_info": {
   "codemirror_mode": {
    "name": "ipython",
    "version": 3
   },
   "file_extension": ".py",
   "mimetype": "text/x-python",
   "name": "python",
   "nbconvert_exporter": "python",
   "pygments_lexer": "ipython3",
   "version": "3.7.4"
  }
 },
 "nbformat": 4,
 "nbformat_minor": 4
}
