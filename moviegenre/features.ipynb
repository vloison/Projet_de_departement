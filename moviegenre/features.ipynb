{
 "cells": [
  {
   "cell_type": "code",
   "execution_count": null,
   "metadata": {},
   "outputs": [],
   "source": [
    "#Training sets\n",
    "train_features_rgb_r = \n",
    "train_features_rgb_g= np.load('../data/features/histo_rgb_g_train.npy')\n",
    "train_features_rgb_b = np.load('../data/features/histo_rgb_b_train.npy')\n",
    "print('shape train rgb r', train_features_rgb_r.shape)\n",
    "print('shape train rgb g', train_features_rgb_g.shape)\n",
    "print('shape train rgb b', train_features_rgb_b.shape)\n",
    "\n",
    "train_features_rgb = np.concatenate((train_features_rgb_r, train_features_rgb_g, train_features_rgb_b), axis=1)\n",
    "print('Shape train rgb', train_features_rgb.shape)\n",
    "\n",
    "#Testing sets\n",
    "test_features_rgb_r = np.load('../data/features/histo_rgb_r_test.npy')\n",
    "test_features_rgb_g = np.load('../data/features/histo_rgb_g_test.npy')\n",
    "test_features_rgb_b = np.load('../data/features/histo_rgb_b_test.npy')\n",
    "print('shape test rgb r', test_features_rgb_r.shape)\n",
    "print('shape test rgb g', test_features_rgb_g.shape)\n",
    "print('shape test rgb b', test_features_rgb_b.shape)\n",
    "\n",
    "test_features_rgb = np.concatenate((test_features_rgb_r, test_features_rgb_g, test_features_rgb_b), axis=1)\n",
    "print('Shape test rgb', test_features_rgb.shape)"
   ]
  },
  {
   "cell_type": "code",
   "execution_count": null,
   "metadata": {},
   "outputs": [],
   "source": [
    "# Training sets\n",
    "train_features_lab_l = np.load('../data/features/histo_lab_l_train.npy')\n",
    "train_features_lab_a= np.load('../data/features/histo_lab_a_train.npy')\n",
    "train_features_lab_b = np.load('../data/features/histo_lab_b_train.npy')\n",
    "print('shape train lab l', train_features_lab_l.shape)\n",
    "print('shape train lab a', train_features_lab_a.shape)\n",
    "print('shape train lab b', train_features_lab_b.shape)\n",
    "\n",
    "train_features_lab = np.concatenate((train_features_lab_l, train_features_lab_a, train_features_lab_b), axis=1)\n",
    "\n",
    "# Testing sets\n",
    "test_features_lab_l = np.load('../data/features/histo_lab_l_test.npy')\n",
    "test_features_lab_a = np.load('../data/features/histo_lab_a_test.npy')\n",
    "test_features_lab_b = np.load('../data/features/histo_lab_b_test.npy')\n",
    "print('shape test lab l', test_features_lab_l.shape)\n",
    "print('shape test lab a', test_features_lab_a.shape)\n",
    "print('shape test lab b', test_features_lab_b.shape)\n",
    "\n",
    "test_features_lab = np.concatenate((test_features_lab_l, test_features_lab_a, test_features_lab_b), axis=1)"
   ]
  },
  {
   "cell_type": "code",
   "execution_count": null,
   "metadata": {},
   "outputs": [],
   "source": [
    "k=3\n",
    "predicted_genres = KNN(clean_movies, train_posters, train_features_resnet, train_genres, train_ids, test_posters, test_features_resnet, test_ids, -1, k)"
   ]
  },
  {
   "cell_type": "code",
   "execution_count": null,
   "metadata": {},
   "outputs": [],
   "source": [
    "# POUR LA METHODE RESNET :\n",
    "\n",
    "RESNET = False #encore à faire\n",
    "\n",
    "# POUR LES HISTOGRAMMES :\n",
    "\n",
    "# On renseigne d'abord si on veut l'histogramme pour la couleur considérée, puis le nombre de bins\n",
    "# Attention, les histogrammes avec le nombre de bins correspondants doivent avoir été calculés\n",
    "\n",
    "RGB_R = False\n",
    "RGB_R_bins = 256\n",
    "\n",
    "RGB_G = False\n",
    "RGB_G_bins = 256 \n",
    "\n",
    "RGB_B = False\n",
    "RGB_B_bins = 256 \n",
    "\n",
    "LAB_L = True\n",
    "LAB_L_bins = 16\n",
    "\n",
    "LAB_A = True\n",
    "LAB_A_bins = 16\n",
    "\n",
    "LAB_B = True\n",
    "LAB_B_bins = 16"
   ]
  },
  {
   "cell_type": "code",
   "execution_count": null,
   "metadata": {},
   "outputs": [],
   "source": []
  }
 ],
 "metadata": {
  "kernelspec": {
   "display_name": "Python 3",
   "language": "python",
   "name": "python3"
  },
  "language_info": {
   "codemirror_mode": {
    "name": "ipython",
    "version": 3
   },
   "file_extension": ".py",
   "mimetype": "text/x-python",
   "name": "python",
   "nbconvert_exporter": "python",
   "pygments_lexer": "ipython3",
   "version": "3.7.4"
  }
 },
 "nbformat": 4,
 "nbformat_minor": 4
}
