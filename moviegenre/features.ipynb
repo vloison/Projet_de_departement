{
 "cells": [
  {
   "cell_type": "code",
   "execution_count": null,
   "metadata": {},
   "outputs": [],
   "source": [
    "import argparse\n",
    "import numpy as np\n",
    "from get_data import main\n",
    "from knn.knn import KNN\n",
    "from utils.display.results_display import plot_neighbors, ConfusionMatrix_display\n",
    "from matplotlib import cm "
   ]
  },
  {
   "cell_type": "code",
   "execution_count": null,
   "metadata": {},
   "outputs": [],
   "source": [
    "parser = argparse.ArgumentParser()\n",
    "parser.add_argument('--config', help='Path to the config file', default='./default_config.yml')\n",
    "parser.add_argument('--log-dir', help='Path to the log directory', default='../log/')\n",
    "parser.add_argument('--posters', help='Path to the posters', default='../data/posters/')\n",
    "parser.add_argument('--models-dir', help='Path to the saved models', default='../data/models/')\n",
    "parser.add_argument('--sets-dir', help='Path to the training and testing sets', default='../data/sets/')\n",
    "parser.add_argument('--database', help='Path to the databse csv', default='../data/poster_data.csv')\n",
    "parser.add_argument('--csv', help='Path to the clean csv', default='../data/')\n",
    "parser.add_argument('-s', '--save', help='Save model', action='store_true')\n",
    "parser.add_argument('-v', '--verbose', help='Verbose', action='store_true')\n",
    "\n",
    "str_args = '-v -s'.split()\n",
    "args, _ = parser.parse_known_args(str_args)"
   ]
  },
  {
   "cell_type": "code",
   "execution_count": null,
   "metadata": {},
   "outputs": [],
   "source": [
    "clean_movies, train_posters, train_genres, train_ids, test_posters, test_genres, test_ids, model_name, save_model, verbose = main(args)"
   ]
  },
  {
   "cell_type": "markdown",
   "metadata": {},
   "source": [
    "# Histogramme de couleurs"
   ]
  },
  {
   "cell_type": "code",
   "execution_count": null,
   "metadata": {},
   "outputs": [],
   "source": [
    "#Training sets\n",
    "train_features_rgb_r = np.load('../data/features/histo_rgb_r_train.npy')\n",
    "train_features_rgb_g= np.load('../data/features/histo_rgb_g_train.npy')\n",
    "train_features_rgb_b = np.load('../data/features/histo_rgb_b_train.npy')\n",
    "print('shape train rgb r', train_features_rgb_r.shape)\n",
    "print('shape train rgb g', train_features_rgb_g.shape)\n",
    "print('shape train rgb b', train_features_rgb_b.shape)\n",
    "\n",
    "train_features_rgb = np.concatenate((train_features_rgb_r, train_features_rgb_g, train_features_rgb_b), axis=1)\n",
    "print('Shape train rgb', train_features_rgb.shape)\n",
    "\n",
    "#Testing sets\n",
    "test_features_rgb_r = np.load('../data/features/histo_rgb_r_test.npy')\n",
    "test_features_rgb_g = np.load('../data/features/histo_rgb_g_test.npy')\n",
    "test_features_rgb_b = np.load('../data/features/histo_rgb_b_test.npy')\n",
    "print('shape test rgb r', test_features_rgb_r.shape)\n",
    "print('shape test rgb g', test_features_rgb_g.shape)\n",
    "print('shape test rgb b', test_features_rgb_b.shape)\n",
    "\n",
    "test_features_rgb = np.concatenate((test_features_rgb_r, test_features_rgb_g, test_features_rgb_b), axis=1)\n",
    "print('Shape test rgb', test_features_rgb.shape)"
   ]
  },
  {
   "cell_type": "code",
   "execution_count": null,
   "metadata": {},
   "outputs": [],
   "source": [
    "# Training sets\n",
    "train_features_lab_l = np.load('../data/features/histo_lab_l_train.npy')\n",
    "train_features_lab_a= np.load('../data/features/histo_lab_a_train.npy')\n",
    "train_features_lab_b = np.load('../data/features/histo_lab_b_train.npy')\n",
    "print('shape train lab l', train_features_lab_l.shape)\n",
    "print('shape train lab a', train_features_lab_a.shape)\n",
    "print('shape train lab b', train_features_lab_b.shape)\n",
    "\n",
    "train_features_lab = np.concatenate((train_features_lab_l, train_features_lab_a, train_features_lab_b), axis=1)\n",
    "\n",
    "# Testing sets\n",
    "test_features_lab_l = np.load('../data/features/histo_lab_l_test.npy')\n",
    "test_features_lab_a = np.load('../data/features/histo_lab_a_test.npy')\n",
    "test_features_lab_b = np.load('../data/features/histo_lab_b_test.npy')\n",
    "print('shape test lab l', test_features_lab_l.shape)\n",
    "print('shape test lab a', test_features_lab_a.shape)\n",
    "print('shape test lab b', test_features_lab_b.shape)\n",
    "\n",
    "test_features_lab = np.concatenate((test_features_lab_l, test_features_lab_a, test_features_lab_b), axis=1)"
   ]
  },
  {
   "cell_type": "markdown",
   "metadata": {},
   "source": [
    "# KNN"
   ]
  },
  {
   "cell_type": "code",
   "execution_count": null,
   "metadata": {},
   "outputs": [],
   "source": [
    "k = 3\n",
    "\n",
    "knn = KNN(k)\n",
    "knn.fit(train_features_lab, train_genres)"
   ]
  },
  {
   "cell_type": "code",
   "execution_count": null,
   "metadata": {},
   "outputs": [],
   "source": [
    "from utils.accuracy import mono_label\n",
    "# Make prediction for each poster in the testing set\n",
    "predicted_genres = knn.predict(test_features_lab, train_genres)\n",
    "# Calculate the accuracy of the predictions compared to the ground truth\n",
    "mono_label(test_genres, predicted_genres)"
   ]
  },
  {
   "cell_type": "markdown",
   "metadata": {},
   "source": [
    "# Display results"
   ]
  },
  {
   "cell_type": "code",
   "execution_count": null,
   "metadata": {},
   "outputs": [],
   "source": [
    "import yaml\n",
    "\n",
    "config = yaml.safe_load(open(args.config))\n",
    "class_names = {config['genres'][k]: k for k in config['genres'].keys()}"
   ]
  },
  {
   "cell_type": "markdown",
   "metadata": {},
   "source": [
    "Display neighbors for a few members of the testing set"
   ]
  },
  {
   "cell_type": "code",
   "execution_count": null,
   "metadata": {
    "scrolled": true
   },
   "outputs": [],
   "source": [
    "from utils.display.results_display import plot_neighbors\n",
    "%matplotlib inline\n",
    "\n",
    "starting_index = np.random.randint(0, 700)\n",
    "num_images = 5\n",
    "title = 'Histogramme LAB+kNN, k='+str(k) \n",
    "plot_neighbors(test_posters, test_genres, class_names, predicted_genres, starting_index, num_images, train_posters, train_genres, knn.neighbors, title)"
   ]
  },
  {
   "cell_type": "markdown",
   "metadata": {},
   "source": [
    "Display confusion matrix"
   ]
  },
  {
   "cell_type": "code",
   "execution_count": null,
   "metadata": {},
   "outputs": [],
   "source": [
    "title = 'Histogramme LAB+kNN, k='+str(k) \n",
    "ConfusionMatrix_display(test_genres, predicted_genres, config['genres'], title)"
   ]
  },
  {
   "cell_type": "code",
   "execution_count": null,
   "metadata": {
    "scrolled": false
   },
   "outputs": [],
   "source": [
    "from utils.display.results_display import histogram\n",
    "histogram(test_genres, predicted_genres, k, config['genres'])"
   ]
  },
  {
   "cell_type": "markdown",
   "metadata": {},
   "source": [
    "# PARTIE SUIVANTE PAS ADAPTÉE"
   ]
  },
  {
   "cell_type": "code",
   "execution_count": null,
   "metadata": {},
   "outputs": [],
   "source": [
    "# POUR LA METHODE RESNET :\n",
    "\n",
    "RESNET = False #encore à faire\n",
    "\n",
    "# POUR LES HISTOGRAMMES :\n",
    "\n",
    "# On renseigne d'abord si on veut l'histogramme pour la couleur considérée, puis le nombre de bins\n",
    "# Attention, les histogrammes avec le nombre de bins correspondants doivent avoir été calculés\n",
    "\n",
    "RGB_R = False\n",
    "RGB_R_bins = 256\n",
    "\n",
    "RGB_G = False\n",
    "RGB_G_bins = 256 \n",
    "\n",
    "RGB_B = False\n",
    "RGB_B_bins = 256 \n",
    "\n",
    "LAB_L = True\n",
    "LAB_L_bins = 16\n",
    "\n",
    "LAB_A = True\n",
    "LAB_A_bins = 16\n",
    "\n",
    "LAB_B = True\n",
    "LAB_B_bins = 16"
   ]
  },
  {
   "cell_type": "code",
   "execution_count": null,
   "metadata": {},
   "outputs": [],
   "source": [
    "obs_train = Observations(1) # 4 pour la distance\n",
    "obs_test = Observations(1)\n",
    "\n",
    "if RGB_R:\n",
    "    obs_train.add_histo_feature(np.load('../data/features/histo_rgb_r_train_' + str(RGB_R_bins) + '.npy'))\n",
    "    obs_test.add_histo_feature(np.load('../data/features/histo_rgb_r_test_' + str(RGB_R_bins) + '.npy'))\n",
    "\n",
    "if RGB_G:\n",
    "    obs_train.add_histo_feature(np.load('../data/features/histo_rgb_g_train_' + str(RGB_G_bins) + '.npy'))\n",
    "    obs_test.add_histo_feature(np.load('../data/features/histo_rgb_g_test_' + str(RGB_G_bins) + '.npy'))\n",
    "\n",
    "if RGB_B:\n",
    "    obs_train.add_histo_feature(np.load('../data/features/histo_rgb_b_train_' + str(RGB_B_bins) + '.npy'))\n",
    "    obs_test.add_histo_feature(np.load('../data/features/histo_rgb_b_test_' + str(RGB_B_bins) + '.npy'))\n",
    "    \n",
    "if LAB_L:\n",
    "    obs_train.add_histo_feature(np.load('../data/features/histo_lab_l_train_' + str(LAB_L_bins) + '.npy'))\n",
    "    obs_test.add_histo_feature(np.load('../data/features/histo_lab_l_test_' + str(LAB_L_bins) + '.npy'))\n",
    "    \n",
    "if LAB_A:\n",
    "    obs_train.add_histo_feature(np.load('../data/features/histo_lab_a_train_' + str(LAB_A_bins) + '.npy'))\n",
    "    obs_test.add_histo_feature(np.load('../data/features/histo_lab_a_test_' + str(LAB_A_bins) + '.npy'))\n",
    "    \n",
    "if LAB_B:\n",
    "    obs_train.add_histo_feature(np.load('../data/features/histo_lab_b_train_' + str(LAB_B_bins) + '.npy'))\n",
    "    obs_test.add_histo_feature(np.load('../data/features/histo_lab_b_test_' + str(LAB_B_bins) + '.npy'))"
   ]
  },
  {
   "cell_type": "code",
   "execution_count": null,
   "metadata": {},
   "outputs": [],
   "source": [
    "# ATTENTION NE CONVIENT PLUS\n",
    "\n",
    "k=7\n",
    "obs_train.compute_distance()\n",
    "\n",
    "predicted_genres = KNN(\n",
    "    dataset=clean_movies,\n",
    "    Xtr=train_posters,\n",
    "    tr_features=obs_train.observations,\n",
    "    Ytr=train_genres,\n",
    "    training_ids=train_ids,\n",
    "    Xtest=test_posters,\n",
    "    test_features=obs_test.observations,\n",
    "    testing_ids=test_ids,\n",
    "    ind=-1,\n",
    "    k=k,\n",
    "    metric=obs_train.distance,\n",
    "    print_results=False\n",
    ")"
   ]
  },
  {
   "cell_type": "code",
   "execution_count": null,
   "metadata": {},
   "outputs": [],
   "source": [
    "histogram(test_genres, predicted_genres, k, config['genres'])"
   ]
  }
 ],
 "metadata": {
  "kernelspec": {
   "display_name": "Python 3",
   "language": "python",
   "name": "python3"
  },
  "language_info": {
   "codemirror_mode": {
    "name": "ipython",
    "version": 3
   },
   "file_extension": ".py",
   "mimetype": "text/x-python",
   "name": "python",
   "nbconvert_exporter": "python",
   "pygments_lexer": "ipython3",
   "version": "3.5.3"
  }
 },
 "nbformat": 4,
 "nbformat_minor": 4
}
