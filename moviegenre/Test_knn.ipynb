{
 "cells": [
  {
   "cell_type": "code",
   "execution_count": 1,
   "metadata": {},
   "outputs": [],
   "source": [
    "from tensorflow import keras\n",
    "from pathlib import Path\n",
    "import argparse\n",
    "import yaml\n",
    "import pandas as pd\n",
    "import numpy as np\n",
    "import matplotlib.pyplot as plt\n",
    "\n",
    "from utils.misc import triplet_to_str\n",
    "from preprocessing.database import clean_database, download_database\n",
    "from preprocessing.sets import preprocess_data\n",
    "from knn.knn import Observations, KNN #visualisation_resultats"
   ]
  },
  {
   "cell_type": "code",
   "execution_count": 2,
   "metadata": {},
   "outputs": [],
   "source": [
    "parser = argparse.ArgumentParser()\n",
    "parser.add_argument('--config', help='Path to the config file', default='./default_config.yml')\n",
    "parser.add_argument('--log-dir', help='Path to the log directory', default='../log/')\n",
    "parser.add_argument('--posters', help='Path to the posters', default='../data/posters/')\n",
    "parser.add_argument('--models-dir', help='Path to the saved models', default='../data/models/')\n",
    "parser.add_argument('--sets-dir', help='Path to the training and testing sets', default='../data/sets/')\n",
    "parser.add_argument('--database', help='Path to the databse csv', default='../data/poster_data.csv')\n",
    "parser.add_argument('--csv', help='Path to the clean csv', default='../data/')\n",
    "parser.add_argument('-s', '--save', help='Save model', action='store_true')\n",
    "parser.add_argument('-v', '--verbose', help='Verbose', action='store_true')\n",
    "\n",
    "str_args = '-v -s'.split()\n",
    "args, _ = parser.parse_known_args(str_args)\n",
    "\n",
    "logger = None"
   ]
  },
  {
   "cell_type": "code",
   "execution_count": 3,
   "metadata": {},
   "outputs": [],
   "source": [
    "config = yaml.safe_load(open(args.config, encoding='utf-8'))\n",
    "\n",
    "nb_genres = len(config[\"genres\"])\n",
    "input_size = config[\"image_size\"]"
   ]
  },
  {
   "cell_type": "code",
   "execution_count": 4,
   "metadata": {},
   "outputs": [],
   "source": [
    "appendix_split = 's{}t{}_'.format(\n",
    "    config['size_per_genre'],\n",
    "    config['testing_split']\n",
    ") + triplet_to_str(config['image_size']) + '_' + str(nb_genres) + \".npy\"\n",
    "\n",
    "data_name = [Path(prefix+appendix_split) for prefix in\n",
    "    [args.sets_dir + 'xtr_',\n",
    "    args.sets_dir + 'ytr_',\n",
    "    args.sets_dir + 'idtr_',\n",
    "    args.sets_dir + 'xtest_',\n",
    "    args.sets_dir + 'ytest_',\n",
    "    args.sets_dir + 'idtest_']\n",
    "]"
   ]
  },
  {
   "cell_type": "code",
   "execution_count": 5,
   "metadata": {},
   "outputs": [
    {
     "data": {
      "text/plain": [
       "PosixPath('../data/sets/xtr_s700t0.15_100-100-3_7.npy')"
      ]
     },
     "execution_count": 5,
     "metadata": {},
     "output_type": "execute_result"
    }
   ],
   "source": [
    "data_name[0]"
   ]
  },
  {
   "cell_type": "code",
   "execution_count": 6,
   "metadata": {},
   "outputs": [
    {
     "name": "stdout",
     "output_type": "stream",
     "text": [
      "Database already cleaned\n"
     ]
    }
   ],
   "source": [
    "selection_name = args.csv+'clean_poster_data_'+str(nb_genres)+'.csv'\n",
    "\n",
    "if Path(selection_name).exists():\n",
    "    if args.verbose:\n",
    "        print('Database already cleaned')\n",
    "    clean_movies = pd.read_csv(Path(selection_name))\n",
    "else:\n",
    "    clean_movies = clean_database(Path(args.database))\n",
    "    if args.save:\n",
    "        clean_movies.to_csv(Path(selection_name))"
   ]
  },
  {
   "cell_type": "code",
   "execution_count": 7,
   "metadata": {
    "scrolled": false
   },
   "outputs": [
    {
     "name": "stdout",
     "output_type": "stream",
     "text": [
      "Training and testing sets already made\n"
     ]
    }
   ],
   "source": [
    "if data_name[0].exists() and data_name[1].exists() and data_name[2].exists() and data_name[3].exists() and data_name[4].exists() and data_name[5].exists():\n",
    "    if args.verbose:\n",
    "        print('Training and testing sets already made')\n",
    "    train_posters, train_genres, train_ids = np.load(data_name[0]), np.load(data_name[1]), np.load(data_name[2])\n",
    "    test_posters, test_genres, test_ids = np.load(data_name[3]), np.load(data_name[4]), np.load(data_name[5])\n",
    "\n",
    "else:\n",
    "    train_posters, train_genres, train_ids, test_posters, test_genres, test_ids = preprocess_data(\n",
    "        clean_movies, config['genres'], config['size_per_genre'], args.posters, config['image_size'],\n",
    "        config['seed'], testing_split=config['testing_split'], verbose=args.verbose, logger=logger\n",
    "    )\n",
    "    if args.save:\n",
    "        sets_path = Path(args.sets_dir)\n",
    "        if not sets_path.exists():\n",
    "            sets_path.mkdir()\n",
    "        np.save(data_name[0], train_posters)\n",
    "        np.save(data_name[1], train_genres)\n",
    "        np.save(data_name[2], train_ids)\n",
    "        np.save(data_name[3], test_posters)\n",
    "        np.save(data_name[4], test_genres)\n",
    "        np.save(data_name[5], test_ids)"
   ]
  },
  {
   "cell_type": "markdown",
   "metadata": {},
   "source": [
    "## Création des features "
   ]
  },
  {
   "cell_type": "markdown",
   "metadata": {},
   "source": [
    "### ResNet"
   ]
  },
  {
   "cell_type": "code",
   "execution_count": 8,
   "metadata": {},
   "outputs": [],
   "source": [
    "resnet = keras.applications.resnet_v2.ResNet50V2(\n",
    "    input_shape=input_size, include_top=False, weights=\"imagenet\"\n",
    ")"
   ]
  },
  {
   "cell_type": "code",
   "execution_count": 9,
   "metadata": {},
   "outputs": [],
   "source": [
    "train_features_resnet = resnet.predict(train_posters.astype(np.float32)).reshape(\n",
    "    (len(train_posters), -1)\n",
    ")\n",
    "    \n",
    "test_features_resnet = resnet.predict(test_posters.astype(np.float32)).reshape(\n",
    "    (len(test_posters), -1)\n",
    ")"
   ]
  },
  {
   "cell_type": "markdown",
   "metadata": {},
   "source": [
    "### Histogrammes de couleurs"
   ]
  },
  {
   "cell_type": "markdown",
   "metadata": {},
   "source": [
    "RGB"
   ]
  },
  {
   "cell_type": "code",
   "execution_count": 10,
   "metadata": {},
   "outputs": [
    {
     "name": "stdout",
     "output_type": "stream",
     "text": [
      "shape train rgb r (4165, 256)\n",
      "shape train rgb g (4165, 256)\n",
      "shape train rgb b (4165, 256)\n",
      "Shape train rgb (4165, 768)\n",
      "shape test rgb r (735, 256)\n",
      "shape test rgb g (735, 256)\n",
      "shape test rgb b (735, 256)\n",
      "Shape test rgb (735, 768)\n"
     ]
    }
   ],
   "source": [
    "#Training sets\n",
    "train_features_rgb_r = np.load('../data/features/histo_rgb_r_train_256.npy')\n",
    "train_features_rgb_g = np.load('../data/features/histo_rgb_g_train_256.npy')\n",
    "train_features_rgb_b = np.load('../data/features/histo_rgb_b_train_256.npy')\n",
    "print('shape train rgb r', train_features_rgb_r.shape)\n",
    "print('shape train rgb g', train_features_rgb_g.shape)\n",
    "print('shape train rgb b', train_features_rgb_b.shape)\n",
    "\n",
    "train_features_rgb = np.concatenate((train_features_rgb_r, train_features_rgb_g, train_features_rgb_b), axis=1)\n",
    "print('Shape train rgb', train_features_rgb.shape)\n",
    "\n",
    "#Testing sets\n",
    "test_features_rgb_r = np.load('../data/features/histo_rgb_r_test_256.npy')\n",
    "test_features_rgb_g = np.load('../data/features/histo_rgb_g_test_256.npy')\n",
    "test_features_rgb_b = np.load('../data/features/histo_rgb_b_test_256.npy')\n",
    "print('shape test rgb r', test_features_rgb_r.shape)\n",
    "print('shape test rgb g', test_features_rgb_g.shape)\n",
    "print('shape test rgb b', test_features_rgb_b.shape)\n",
    "\n",
    "test_features_rgb = np.concatenate((test_features_rgb_r, test_features_rgb_g, test_features_rgb_b), axis=1)\n",
    "print('Shape test rgb', test_features_rgb.shape)"
   ]
  },
  {
   "cell_type": "markdown",
   "metadata": {},
   "source": [
    "LAB"
   ]
  },
  {
   "cell_type": "code",
   "execution_count": 11,
   "metadata": {},
   "outputs": [
    {
     "name": "stdout",
     "output_type": "stream",
     "text": [
      "shape train lab l (4165, 256)\n",
      "shape train lab a (4165, 256)\n",
      "shape train lab b (4165, 256)\n",
      "shape test lab l (735, 256)\n",
      "shape test lab a (735, 256)\n",
      "shape test lab b (735, 256)\n"
     ]
    }
   ],
   "source": [
    "# Training sets\n",
    "train_features_lab_l = np.load('../data/features/histo_lab_l_train_256.npy')\n",
    "train_features_lab_a= np.load('../data/features/histo_lab_a_train_256.npy')\n",
    "train_features_lab_b = np.load('../data/features/histo_lab_b_train_256.npy')\n",
    "print('shape train lab l', train_features_lab_l.shape)\n",
    "print('shape train lab a', train_features_lab_a.shape)\n",
    "print('shape train lab b', train_features_lab_b.shape)\n",
    "\n",
    "train_features_lab = np.concatenate((train_features_lab_l, train_features_lab_a, train_features_lab_b), axis=1)\n",
    "\n",
    "# Testing sets\n",
    "test_features_lab_l = np.load('../data/features/histo_lab_l_test_256.npy')\n",
    "test_features_lab_a = np.load('../data/features/histo_lab_a_test_256.npy')\n",
    "test_features_lab_b = np.load('../data/features/histo_lab_b_test_256.npy')\n",
    "print('shape test lab l', test_features_lab_l.shape)\n",
    "print('shape test lab a', test_features_lab_a.shape)\n",
    "print('shape test lab b', test_features_lab_b.shape)\n",
    "\n",
    "test_features_lab = np.concatenate((test_features_lab_l, test_features_lab_a, test_features_lab_b), axis=1)"
   ]
  },
  {
   "cell_type": "markdown",
   "metadata": {},
   "source": [
    "Affichage des plus proches voisins sur un exemple"
   ]
  },
  {
   "cell_type": "code",
   "execution_count": 12,
   "metadata": {},
   "outputs": [],
   "source": [
    "# TODO"
   ]
  },
  {
   "cell_type": "markdown",
   "metadata": {},
   "source": [
    "Calcul des prédictions sur le testing set"
   ]
  },
  {
   "cell_type": "code",
   "execution_count": 13,
   "metadata": {},
   "outputs": [
    {
     "name": "stdout",
     "output_type": "stream",
     "text": [
      "Generating kNN Classifier...\n"
     ]
    },
    {
     "name": "stderr",
     "output_type": "stream",
     "text": [
      "  3%|▎         | 21/735 [00:00<00:03, 203.67it/s]"
     ]
    },
    {
     "name": "stdout",
     "output_type": "stream",
     "text": [
      "kNN Classifier generated.\n"
     ]
    },
    {
     "name": "stderr",
     "output_type": "stream",
     "text": [
      "100%|██████████| 735/735 [00:03<00:00, 193.00it/s]\n"
     ]
    }
   ],
   "source": [
    "k=3\n",
    "predicted_genres = KNN(clean_movies, train_posters, train_features_lab, train_genres, train_ids, test_posters, test_features_lab, test_ids, -1, k, print_results=False)"
   ]
  },
  {
   "cell_type": "code",
   "execution_count": 14,
   "metadata": {
    "scrolled": false
   },
   "outputs": [
    {
     "name": "stdout",
     "output_type": "stream",
     "text": [
      "genres ['Action', 'Animation', 'Comédie', 'Comédie dramatique', 'Documentaire', 'Drame', 'Thriller-Policier']\n",
      "accuracy: 0.2217687074829932\n"
     ]
    },
    {
     "data": {
      "image/png": "[encoded data removed]",
      "text/plain": [
       "<Figure size 1080x360 with 1 Axes>"
      ]
     },
     "metadata": {
      "needs_background": "light"
     },
     "output_type": "display_data"
    },
    {
     "data": {
      "image/png": "[encoded data removed]",
      "text/plain": [
       "<Figure size 1080x360 with 1 Axes>"
      ]
     },
     "metadata": {
      "needs_background": "light"
     },
     "output_type": "display_data"
    },
    {
     "data": {
      "image/png": "[encoded data removed]",
      "text/plain": [
       "<Figure size 1080x360 with 1 Axes>"
      ]
     },
     "metadata": {
      "needs_background": "light"
     },
     "output_type": "display_data"
    },
    {
     "data": {
      "image/png": "[encoded data removed]",
      "text/plain": [
       "<Figure size 1080x360 with 1 Axes>"
      ]
     },
     "metadata": {
      "needs_background": "light"
     },
     "output_type": "display_data"
    },
    {
     "data": {
      "image/png": "[encoded data removed]",
      "text/plain": [
       "<Figure size 1080x360 with 1 Axes>"
      ]
     },
     "metadata": {
      "needs_background": "light"
     },
     "output_type": "display_data"
    },
    {
     "data": {
      "image/png": "[encoded data removed]",
      "text/plain": [
       "<Figure size 1080x360 with 1 Axes>"
      ]
     },
     "metadata": {
      "needs_background": "light"
     },
     "output_type": "display_data"
    },
    {
     "data": {
      "image/png": "[encoded data removed]",
      "text/plain": [
       "<Figure size 1080x360 with 1 Axes>"
      ]
     },
     "metadata": {
      "needs_background": "light"
     },
     "output_type": "display_data"
    },
    {
     "data": {
      "text/plain": [
       "0.2217687074829932"
      ]
     },
     "execution_count": 14,
     "metadata": {},
     "output_type": "execute_result"
    }
   ],
   "source": [
    "genres_inv = {config['genres'][k]: k for k in config['genres'].keys()}\n",
    "print('genres', list(config['genres']))\n",
    "\n",
    "def visualisation_resultats(predicted_genres, test_genres, kneighbors, save=False):\n",
    "    predictions = np.array([genres_inv[k] for k in np.argmax(predicted_genres, axis=1)])\n",
    "    ground_truth = np.array([genres_inv[k] for k in np.argmax(test_genres, axis=1)])\n",
    "\n",
    "    genres = config[\"genres\"]\n",
    "    # results_per_genre : matrice donc les lignes sont les vrais genres, et les colonnes sont les genres prédits\n",
    "    results_per_genre = {\n",
    "        genre_true : {genre_pred : 0 for genre_pred in genres}\n",
    "        for genre_true in genres\n",
    "    }\n",
    "    #print(\"results per genre\", results_per_genre)\n",
    "    #print('results per genre ligne', results_per_genre['Action'].values())\n",
    "    # total_per_genre : vecteur qui comptabilise le nombre de représentants de chaque genre\n",
    "    total_per_genre = {\n",
    "        genre : 0\n",
    "        for genre in genres\n",
    "    }\n",
    "    # Mise à jour de results_per_genre et total_per_genre en fonction des prédictions\n",
    "    n = len(predictions)\n",
    "    for i in range(n):\n",
    "        results_per_genre[ground_truth[i]][predictions[i]] += 1\n",
    "        total_per_genre[ground_truth[i]] += 1\n",
    "\n",
    "    # Accuracy\n",
    "    accuracy = 0\n",
    "    for genre in genres:\n",
    "        accuracy += results_per_genre[genre][genre]\n",
    "    accuracy /= len(test_posters)\n",
    "    print('accuracy:', accuracy)\n",
    "\n",
    "    # Visualisation:\n",
    "    genres_list = list(config['genres'])\n",
    "    for iterateur in genres_list:\n",
    "        plt.figure(figsize=(15, 5))\n",
    "        plt.title('Prédictions sur les films de genre ' + iterateur + ' k='+str(k) +\", Accuracy totale:\" + str(accuracy))\n",
    "        plt.bar(genres_list, results_per_genre[iterateur].values())\n",
    "        plt.show()\n",
    "        if save:\n",
    "            plt.savefig('../results/Resnet+kNN/'+iterateur+'_k='+str(kneighbors)+'.png')\n",
    "    return(accuracy)\n",
    "\n",
    "visualisation_resultats(predicted_genres, test_genres, k)"
   ]
  },
  {
   "cell_type": "markdown",
   "metadata": {},
   "source": [
    "# Prédiction des genres:"
   ]
  },
  {
   "cell_type": "markdown",
   "metadata": {},
   "source": [
    "## Creation des features"
   ]
  },
  {
   "cell_type": "markdown",
   "metadata": {},
   "source": [
    "Les blocs suivant sert à \"automatiser\" la sélection des features :"
   ]
  },
  {
   "cell_type": "code",
   "execution_count": 15,
   "metadata": {},
   "outputs": [],
   "source": [
    "# POUR LA METHODE RESNET :\n",
    "\n",
    "RESNET = True\n",
    "\n",
    "# POUR LES HISTOGRAMMES :\n",
    "\n",
    "# On renseigne d'abord si on veut l'histogramme pour la couleur considérée, puis le nombre de bins\n",
    "# Attention, les histogrammes avec le nombre de bins correspondants doivent avoir été calculés\n",
    "\n",
    "RGB_R = False\n",
    "RGB_R_bins = 256\n",
    "\n",
    "RGB_G = False\n",
    "RGB_G_bins = 256 \n",
    "\n",
    "RGB_B = False\n",
    "RGB_B_bins = 256 \n",
    "\n",
    "LAB_L = False\n",
    "LAB_L_bins = 256\n",
    "\n",
    "LAB_A = False\n",
    "LAB_A_bins = 256\n",
    "\n",
    "LAB_B = False\n",
    "LAB_B_bins = 256"
   ]
  },
  {
   "cell_type": "markdown",
   "metadata": {},
   "source": [
    "Dans le bloc suivant, on définit le dictionnaire en fonction de nos choix de features :"
   ]
  },
  {
   "cell_type": "code",
   "execution_count": 16,
   "metadata": {},
   "outputs": [],
   "source": [
    "obs_train = Observations(1) # 4 pour la distance\n",
    "obs_test = Observations(1)\n",
    "\n",
    "if RGB_R:\n",
    "    obs_train.add_histo_feature(np.load('../data/features/histo_rgb_r_train_' + str(RGB_R_bins) + '.npy'))\n",
    "    obs_test.add_histo_feature(np.load('../data/features/histo_rgb_r_test_' + str(RGB_R_bins) + '.npy'))\n",
    "\n",
    "if RGB_G:\n",
    "    obs_train.add_histo_feature(np.load('../data/features/histo_rgb_g_train_' + str(RGB_G_bins) + '.npy'))\n",
    "    obs_test.add_histo_feature(np.load('../data/features/histo_rgb_g_test_' + str(RGB_G_bins) + '.npy'))\n",
    "\n",
    "if RGB_B:\n",
    "    obs_train.add_histo_feature(np.load('../data/features/histo_rgb_b_train_' + str(RGB_B_bins) + '.npy'))\n",
    "    obs_test.add_histo_feature(np.load('../data/features/histo_rgb_b_test_' + str(RGB_B_bins) + '.npy'))\n",
    "    \n",
    "if LAB_L:\n",
    "    obs_train.add_histo_feature(np.load('../data/features/histo_lab_l_train_' + str(LAB_L_bins) + '.npy'))\n",
    "    obs_test.add_histo_feature(np.load('../data/features/histo_lab_l_test_' + str(LAB_L_bins) + '.npy'))\n",
    "    \n",
    "if LAB_A:\n",
    "    obs_train.add_histo_feature(np.load('../data/features/histo_lab_a_train_' + str(LAB_A_bins) + '.npy'))\n",
    "    obs_test.add_histo_feature(np.load('../data/features/histo_lab_a_test_' + str(LAB_A_bins) + '.npy'))\n",
    "    \n",
    "if LAB_B:\n",
    "    obs_train.add_histo_feature(np.load('../data/features/histo_lab_b_train_' + str(LAB_B_bins) + '.npy'))\n",
    "    obs_test.add_histo_feature(np.load('../data/features/histo_lab_b_test_' + str(LAB_B_bins) + '.npy'))\n",
    "\n",
    "if RESNET:\n",
    "    for i in range(train_features_resnet.shape[1]):\n",
    "        obs_train.add_float_feature(train_features_resnet[:, i])\n",
    "        obs_test.add_float_feature(test_features_resnet[:, i])"
   ]
  },
  {
   "cell_type": "code",
   "execution_count": null,
   "metadata": {},
   "outputs": [
    {
     "name": "stdout",
     "output_type": "stream",
     "text": [
      "Generating kNN Classifier...\n",
      "kNN Classifier generated.\n"
     ]
    },
    {
     "name": "stderr",
     "output_type": "stream",
     "text": [
      "  7%|▋         | 52/735 [3:14:25<41:33:51, 219.08s/it]"
     ]
    }
   ],
   "source": [
    "k=7\n",
    "obs_train.compute_distance()\n",
    "\n",
    "predicted_genres = KNN(\n",
    "    dataset=clean_movies,\n",
    "    Xtr=train_posters,\n",
    "    tr_features=obs_train.observations,\n",
    "    Ytr=train_genres,\n",
    "    training_ids=train_ids,\n",
    "    Xtest=test_posters,\n",
    "    test_features=obs_test.observations,\n",
    "    testing_ids=test_ids,\n",
    "    ind=-1,\n",
    "    k=k,\n",
    "    metric=obs_train.distance,\n",
    "    print_results=False\n",
    ")"
   ]
  },
  {
   "cell_type": "markdown",
   "metadata": {},
   "source": [
    "Visualisation des résultats"
   ]
  },
  {
   "cell_type": "code",
   "execution_count": null,
   "metadata": {},
   "outputs": [],
   "source": [
    "genres_inv = {config['genres'][k]: k for k in config['genres'].keys()}\n",
    "print('genres', list(config['genres']))\n",
    "\n",
    "def visualisation_resultats(predicted_genres, test_genres, kneighbors, save=False):\n",
    "    predictions = np.array([genres_inv[k] for k in np.argmax(predicted_genres, axis=1)])\n",
    "    ground_truth = np.array([genres_inv[k] for k in np.argmax(test_genres, axis=1)])\n",
    "\n",
    "    genres = config[\"genres\"]\n",
    "    # results_per_genre : matrice donc les lignes sont les vrais genres, et les colonnes sont les genres prédits\n",
    "    results_per_genre = {\n",
    "        genre_true : {genre_pred : 0 for genre_pred in genres}\n",
    "        for genre_true in genres\n",
    "    }\n",
    "    #print(\"results per genre\", results_per_genre)\n",
    "    #print('results per genre ligne', results_per_genre['Action'].values())\n",
    "    # total_per_genre : vecteur qui comptabilise le nombre de représentants de chaque genre\n",
    "    total_per_genre = {\n",
    "        genre : 0\n",
    "        for genre in genres\n",
    "    }\n",
    "    # Mise à jour de results_per_genre et total_per_genre en fonction des prédictions\n",
    "    n = len(predictions)\n",
    "    for i in range(n):\n",
    "        results_per_genre[ground_truth[i]][predictions[i]] += 1\n",
    "        total_per_genre[ground_truth[i]] += 1\n",
    "\n",
    "    # Accuracy\n",
    "    accuracy = 0\n",
    "    for genre in genres:\n",
    "        accuracy += results_per_genre[genre][genre]\n",
    "    accuracy /= len(test_posters)\n",
    "    print('accuracy:', accuracy)\n",
    "\n",
    "    # Visualisation:\n",
    "    genres_list = list(config['genres'])\n",
    "    for iterateur in genres_list:\n",
    "        plt.figure(figsize=(15, 5))\n",
    "        plt.title('Prédictions sur les films de genre ' + iterateur + ' k='+str(k) +\", Accuracy totale:\" + str(accuracy))\n",
    "        plt.bar(genres_list, results_per_genre[iterateur].values())\n",
    "        plt.show()\n",
    "        if save:\n",
    "            plt.savefig('../results/Resnet+kNN/'+iterateur+'_k='+str(kneighbors)+'.png')\n",
    "    return(accuracy)"
   ]
  },
  {
   "cell_type": "code",
   "execution_count": null,
   "metadata": {},
   "outputs": [],
   "source": [
    "visualisation_resultats(predicted_genres, test_genres, k)"
   ]
  },
  {
   "cell_type": "code",
   "execution_count": null,
   "metadata": {},
   "outputs": [],
   "source": []
  }
 ],
 "metadata": {
  "kernelspec": {
   "display_name": "Python 3",
   "language": "python",
   "name": "python3"
  },
  "language_info": {
   "codemirror_mode": {
    "name": "ipython",
    "version": 3
   },
   "file_extension": ".py",
   "mimetype": "text/x-python",
   "name": "python",
   "nbconvert_exporter": "python",
   "pygments_lexer": "ipython3",
   "version": "3.7.7"
  }
 },
 "nbformat": 4,
 "nbformat_minor": 4
}
