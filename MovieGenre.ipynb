{
 "cells": [
  {
   "cell_type": "markdown",
   "metadata": {},
   "source": [
    "##### <h1 style=\"text-align:center;\"> Classification de films en fonction de leur genre à partir de l'affiche</h1>\n",
    "<h3 style=\"text-align:center;\">- Alex Fauduet, Virginie Loison, Maxime Poli, Nicolas Schlegel -</h3>\n"
   ]
  },
  {
   "cell_type": "markdown",
   "metadata": {},
   "source": [
    "# Récupération et nettoyage des données\n",
    "\n",
    "Utilise les DataFrame de Pandas pour stocker les données. Attention: ajouter une différenciation par date possible pour supprimer les films pas encore sortis. Souvent n'ont pas une vraie affiche mais juste une photo ce qui faussera les résultats."
   ]
  },
  {
   "cell_type": "code",
   "execution_count": 1,
   "metadata": {},
   "outputs": [],
   "source": [
    "import numpy as np\n",
    "import pandas as pd\n",
    "import os\n",
    "from tqdm import tqdm_notebook # loading bar\n",
    "from urllib.request import urlretrieve"
   ]
  },
  {
   "cell_type": "code",
   "execution_count": 2,
   "metadata": {},
   "outputs": [
    {
     "name": "stdout",
     "output_type": "stream",
     "text": [
      "http://fr.web.img1.acsta.net/pictures/19/01/21/08/55/3179227.jpg\n",
      "Index(['title', 'release_date', 'genre_1', 'genre_2', 'genre_3', 'poster'], dtype='object')\n"
     ]
    }
   ],
   "source": [
    "savelocation = 'posters/'\n",
    "if not os.path.exists(savelocation):\n",
    "    os.mkdir(savelocation)\n",
    "movies = pd.read_csv('poster_data.csv')\n",
    "\n",
    "print(movies.at[1000,'poster'])\n",
    "print(movies.columns)"
   ]
  },
  {
   "cell_type": "code",
   "execution_count": null,
   "metadata": {},
   "outputs": [
    {
     "data": {
      "application/vnd.jupyter.widget-view+json": {
       "model_id": "7732d8d84ffe4d59b83c1cf00ce9dbce",
       "version_major": 2,
       "version_minor": 0
      },
      "text/plain": [
       "HBox(children=(IntProgress(value=0, max=15927), HTML(value='')))"
      ]
     },
     "metadata": {},
     "output_type": "display_data"
    }
   ],
   "source": [
    "not_found = []\n",
    "postersURLS = movies['poster'].to_list()\n",
    "\n",
    "for index in tqdm_notebook(range(len(postersURLS))):\n",
    "    jpgname = savelocation+str(index)+'.jpg'\n",
    "    try:\n",
    "        urlretrieve(postersURLS[index], jpgname)\n",
    "    except:\n",
    "        not_found.append(index)\n",
    "print(not_found)"
   ]
  }
 ],
 "metadata": {
  "kernelspec": {
   "display_name": "Python 3",
   "language": "python",
   "name": "python3"
  },
  "language_info": {
   "codemirror_mode": {
    "name": "ipython",
    "version": 3
   },
   "file_extension": ".py",
   "mimetype": "text/x-python",
   "name": "python",
   "nbconvert_exporter": "python",
   "pygments_lexer": "ipython3",
   "version": "3.7.4"
  }
 },
 "nbformat": 4,
 "nbformat_minor": 2
}
