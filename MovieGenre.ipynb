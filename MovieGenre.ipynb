{
 "cells": [
  {
   "cell_type": "markdown",
   "metadata": {},
   "source": [
    "##### <h1 style=\"text-align:center;\"> Classification de films en fonction de leur genre à partir de l'affiche</h1>\n",
    "<h3 style=\"text-align:center;\">- Alex Fauduet, Virginie Loison, Maxime Poli, Nicolas Schlegel -</h3>\n"
   ]
  },
  {
   "cell_type": "markdown",
   "metadata": {},
   "source": [
    "# Récupération et nettoyage des données\n",
    "\n",
    "Utilise les DataFrame de Pandas pour stocker les données. Attention: ajouter une différenciation par date possible pour supprimer les films pas encore sortis. Souvent n'ont pas une vraie affiche mais juste une photo ce qui faussera les résultats."
   ]
  },
  {
   "cell_type": "code",
   "execution_count": 79,
   "metadata": {},
   "outputs": [],
   "source": [
    "%matplotlib inline \n",
    "\n",
    "from pathlib import Path\n",
    "from urllib.request import urlretrieve\n",
    "from tqdm.notebook import tqdm  # barre de chargement\n",
    "import pandas as pd\n",
    "import numpy as np\n",
    "import matplotlib.pyplot as plt\n",
    "import pandas_profiling\n",
    "import imageio\n",
    "import skimage"
   ]
  },
  {
   "cell_type": "code",
   "execution_count": 80,
   "metadata": {},
   "outputs": [],
   "source": [
    "def database_download(savelocation, dataset, nb=None):\n",
    "    \"\"\"Downloads the database from the given links in the dataset\"\"\"\n",
    "    path = Path(savelocation)\n",
    "    if not path.exists():\n",
    "        path.mkdir()\n",
    "    not_found = []\n",
    "    print('Posters database downloading')\n",
    "    generator = dataset.iterrows() if nb is None else dataset.head(n=nb).iterrows()\n",
    "    length = len(dataset) if nb is None else nb\n",
    "    for index, row in tqdm(generator, total=length):\n",
    "        current_name = str(index)+'.jpg'\n",
    "        jpgname = path / current_name\n",
    "        try:\n",
    "            if not Path(jpgname).is_file():\n",
    "                urlretrieve(row.poster, Path(jpgname))\n",
    "        except Exception:  # Mettre le nom de l'exception possible\n",
    "            not_found.append(index)\n",
    "    print('Database downloaded')\n",
    "    return not_found"
   ]
  },
  {
   "cell_type": "code",
   "execution_count": 81,
   "metadata": {},
   "outputs": [],
   "source": [
    "SAVELOCATION = 'posters/'\n",
    "RAW_MOVIES = pd.read_csv('poster_data.csv')\n",
    "TODAY = pd.Timestamp.today()\n",
    "\n",
    "# RAW_MOVIES.profile_report()"
   ]
  },
  {
   "cell_type": "markdown",
   "metadata": {},
   "source": [
    "On nettoie la base de données en ne gardant que les films ayant un titre, une date de sortie, au moins un genre et un poster. On enlève les films pas encore sortis. Voir quels genres supprimer.\n",
    "Choisir un échantillon d'entraînement à partir des films restants. Pas forcément tout faire au hasard: on a un training set où certains genres sont bien plus représentés."
   ]
  },
  {
   "cell_type": "code",
   "execution_count": 82,
   "metadata": {},
   "outputs": [],
   "source": [
    "MOVIES = RAW_MOVIES.dropna(\n",
    "    subset=['title', 'release_date', 'genre_1', 'poster']).drop(\n",
    "        RAW_MOVIES[RAW_MOVIES['release_date'].map(pd.Timestamp) > TODAY].index)\n",
    "# MOVIES.profile_report()"
   ]
  },
  {
   "cell_type": "code",
   "execution_count": 83,
   "metadata": {
    "scrolled": true
   },
   "outputs": [],
   "source": [
    "def genre_count(movies):\n",
    "    \"\"\"Prints the genres (first category) and the number of appearences\"\"\"\n",
    "    genre_list = movies.genre_1.unique()\n",
    "#     for genre in np.append(movies.genre_2.unique(), movies.genre_3.unique()):\n",
    "#         if genre not in genre_list:\n",
    "#             np.append(genre_list, genre)\n",
    "    for label in genre_list:\n",
    "        occurences = len(movies[movies['genre_1'] == label])\n",
    "        print(label, occurences)\n",
    "        \n",
    "# genre_count(MOVIES)"
   ]
  },
  {
   "cell_type": "code",
   "execution_count": 84,
   "metadata": {},
   "outputs": [
    {
     "name": "stdout",
     "output_type": "stream",
     "text": [
      "Posters database downloading\n"
     ]
    },
    {
     "data": {
      "application/vnd.jupyter.widget-view+json": {
       "model_id": "fc5588d62416449fa6236fe876b51dd4",
       "version_major": 2,
       "version_minor": 0
      },
      "text/plain": [
       "HBox(children=(FloatProgress(value=0.0, max=60.0), HTML(value='')))"
      ]
     },
     "metadata": {},
     "output_type": "display_data"
    },
    {
     "name": "stdout",
     "output_type": "stream",
     "text": [
      "\n",
      "Database downloaded\n",
      "[]\n"
     ]
    }
   ],
   "source": [
    "MOVIES.to_csv('clean_poster_data.csv', index=True)\n",
    "not_found = database_download(SAVELOCATION, MOVIES, nb=60)\n",
    "print(not_found)"
   ]
  },
  {
   "cell_type": "markdown",
   "metadata": {},
   "source": [
    "# Preprocessing \n",
    "Traite les données"
   ]
  },
  {
   "cell_type": "code",
   "execution_count": 85,
   "metadata": {},
   "outputs": [],
   "source": [
    "def get_id(path):\n",
    "    \"\"\"Gets the id from the Pathlib path\"\"\"\n",
    "    filename = path.parts[-1]\n",
    "    index_f = filename.rfind(\".jpg\")\n",
    "    return int(filename[:index_f])\n",
    "\n",
    "\n",
    "def show_img(dataset, posters, labels, ids, index):\n",
    "    \"\"\"Shows the image with id at index position in ids\"\"\"\n",
    "    title = dataset.at[ids[index], 'title']\n",
    "    genre = dataset.at[ids[index], 'genre_1']+', '+str(ids[index])\n",
    "#     genres = [dataset.at[ids[index],'genre_'+i] for i in ['1','2','3']]\n",
    "    plt.imshow(posters[index])\n",
    "    plt.title('{} \\n {}'.format(title, genre))\n",
    "    plt.show()\n",
    "\n",
    "\n",
    "def preprocess(img, size=(150, 100, 3)):\n",
    "    \"\"\"Normalizes the image\"\"\"\n",
    "    img = skimage.transform.resize(img, size)\n",
    "    img = img.astype(np.float32)\n",
    "#     img = (img / 127.5) -1\n",
    "    return img"
   ]
  },
  {
   "cell_type": "code",
   "execution_count": 86,
   "metadata": {},
   "outputs": [],
   "source": [
    "def prepare_data(dir_path, dataset, size=(150, 100, 3), save=True):\n",
    "    \"\"\"Generates the data to be used by the neural network\"\"\"\n",
    "    print('Generating dataset...')\n",
    "    genre_list = dataset.genre_1.unique()\n",
    "    nb_genres = len(genre_list)\n",
    "    inv_genre = {genre_list[k]: k for k in range(nb_genres)}\n",
    "    image_glob = sorted(Path(dir_path).glob(\"*.jpg\"))\n",
    "    posters, genres, ids = [], [], []\n",
    "    for path in tqdm(image_glob):\n",
    "        try:\n",
    "            # Meilleure gestion d'erreur à faire\n",
    "            posters.append(preprocess(imageio.imread(path), size))\n",
    "            index = get_id(path)\n",
    "            vect_genre = np.zeros(nb_genres, dtype=int)\n",
    "            # Rajoute un 1 à l'indice correspondant à la position\n",
    "            # du premier genre de ce film dans la liste des genres\n",
    "            vect_genre[inv_genre[dataset.at[index, 'genre_1']]] = 1\n",
    "            genres.append(vect_genre)\n",
    "            ids.append(index)\n",
    "        except Exception as e:\n",
    "            print(e)\n",
    "    if save:\n",
    "        np.save('numpy_posters', posters)\n",
    "        np.save('numpy_genres', genres)\n",
    "        np.save('numpy_ids', ids)\n",
    "    print('Done.')\n",
    "    return posters, genres, ids"
   ]
  },
  {
   "cell_type": "code",
   "execution_count": 89,
   "metadata": {},
   "outputs": [
    {
     "data": {
      "image/png": "[encoded data removed]",
      "text/plain": [
       "<Figure size 432x288 with 1 Axes>"
      ]
     },
     "metadata": {
      "needs_background": "light"
     },
     "output_type": "display_data"
    }
   ],
   "source": [
    "#X, Y, IDS = prepare_data(SAVELOCATION, MOVIES)\n",
    "X = np.load('numpy_posters.npy')\n",
    "Y = np.load('numpy_genres.npy')\n",
    "IDS = np.load('numpy_ids.npy')\n",
    "show_img(MOVIES, X, Y, IDS, 3)"
   ]
  },
  {
   "cell_type": "code",
   "execution_count": null,
   "metadata": {},
   "outputs": [],
   "source": []
  }
 ],
 "metadata": {
  "kernelspec": {
   "display_name": "Python 3",
   "language": "python",
   "name": "python3"
  },
  "language_info": {
   "codemirror_mode": {
    "name": "ipython",
    "version": 3
   },
   "file_extension": ".py",
   "mimetype": "text/x-python",
   "name": "python",
   "nbconvert_exporter": "python",
   "pygments_lexer": "ipython3",
   "version": "3.7.4"
  }
 },
 "nbformat": 4,
 "nbformat_minor": 2
}
