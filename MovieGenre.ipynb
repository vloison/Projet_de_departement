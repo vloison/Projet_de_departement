{
 "cells": [
  {
   "cell_type": "markdown",
   "metadata": {},
   "source": [
    "##### <h1 style=\"text-align:center;\"> Classification de films en fonction de leur genre à partir de l'affiche</h1>\n",
    "<h3 style=\"text-align:center;\">- Alex Fauduet, Virginie Loison, Maxime Poli, Nicolas Schlegel -</h3>\n"
   ]
  },
  {
   "cell_type": "markdown",
   "metadata": {},
   "source": [
    "# Récupération et nettoyage des données\n",
    "\n",
    "Utilise les DataFrame de Pandas pour stocker les données. Attention: ajouter une différenciation par date possible pour supprimer les films pas encore sortis. Souvent n'ont pas une vraie affiche mais juste une photo ce qui faussera les résultats."
   ]
  },
  {
   "cell_type": "code",
   "execution_count": 2,
   "metadata": {},
   "outputs": [],
   "source": [
    "%matplotlib inline \n",
    "\n",
    "from pathlib import Path\n",
    "from urllib.request import urlretrieve\n",
    "from tqdm import tqdm  # barre de chargement\n",
    "import pandas as pd\n",
    "import numpy as np\n",
    "import matplotlib.pyplot as plt\n",
    "import pandas_profiling\n",
    "import imageio\n",
    "import skimage"
   ]
  },
  {
   "cell_type": "code",
   "execution_count": 37,
   "metadata": {},
   "outputs": [],
   "source": [
    "def database_download(savelocation, dataset, nb=None):\n",
    "    \"\"\"Downloads the database from the given links in the dataset\"\"\"\n",
    "    path = Path(savelocation)\n",
    "    if not path.exists():\n",
    "        path.mkdir()\n",
    "    not_found = []\n",
    "    print('Posters database downloading')\n",
    "    generator = dataset.iterrows() if nb is None else dataset.head(n=nb).iterrows()\n",
    "    length = len(dataset) if nb is None else nb\n",
    "    for index, row in tqdm(generator, total=length):\n",
    "        current_name = str(index)+'.jpg'\n",
    "        jpgname = path / current_name\n",
    "        try:\n",
    "            if not Path(jpgname).is_file():\n",
    "                urlretrieve(row.poster, Path(jpgname))\n",
    "        except Exception:  # Mettre le nom de l'exception possible\n",
    "            not_found.append(index)\n",
    "    print('Database downloaded')\n",
    "    return not_found"
   ]
  },
  {
   "cell_type": "code",
   "execution_count": 38,
   "metadata": {},
   "outputs": [],
   "source": [
    "SAVELOCATION = 'posters/'\n",
    "RAW_MOVIES = pd.read_csv('poster_data.csv')\n",
    "TODAY = pd.Timestamp.today()\n",
    "\n",
    "# RAW_MOVIES.profile_report()"
   ]
  },
  {
   "cell_type": "markdown",
   "metadata": {},
   "source": [
    "On nettoie la base de données en ne gardant que les films ayant un titre, une date de sortie, au moins un genre et un poster. On enlève les films pas encore sortis. Voir quels genres supprimer.\n",
    "Choisir un échantillon d'entraînement à partir des films restants. Pas forcément tout faire au hasard: on a un training set où certains genres sont bien plus représentés."
   ]
  },
  {
   "cell_type": "code",
   "execution_count": 39,
   "metadata": {},
   "outputs": [],
   "source": [
    "MOVIES = RAW_MOVIES.dropna(\n",
    "    subset=['title', 'release_date', 'genre_1', 'poster']).drop(\n",
    "        RAW_MOVIES[RAW_MOVIES['release_date'].map(pd.Timestamp) > TODAY].index)\n",
    "# MOVIES.profile_report()"
   ]
  },
  {
   "cell_type": "code",
   "execution_count": 40,
   "metadata": {
    "scrolled": true
   },
   "outputs": [],
   "source": [
    "def genre_count(movies):\n",
    "    \"\"\"Prints the genres (first category) and the number of appearences\"\"\"\n",
    "    genre_list = movies.genre_1.unique()\n",
    "#     for genre in np.append(movies.genre_2.unique(), movies.genre_3.unique()):\n",
    "#         if genre not in genre_list:\n",
    "#             np.append(genre_list, genre)\n",
    "    for label in genre_list:\n",
    "        occurences = len(movies[movies['genre_1'] == label])\n",
    "        print(label, occurences)\n",
    "        \n",
    "# genre_count(MOVIES)"
   ]
  },
  {
   "cell_type": "code",
   "execution_count": 41,
   "metadata": {},
   "outputs": [
    {
     "name": "stderr",
     "output_type": "stream",
     "text": [
      "\r",
      "  0%|          | 0/50 [00:00<?, ?it/s]"
     ]
    },
    {
     "name": "stdout",
     "output_type": "stream",
     "text": [
      "Posters database downloading\n"
     ]
    },
    {
     "name": "stderr",
     "output_type": "stream",
     "text": [
      "100%|██████████| 50/50 [00:05<00:00,  9.73it/s]"
     ]
    },
    {
     "name": "stdout",
     "output_type": "stream",
     "text": [
      "Database downloaded\n",
      "[]\n"
     ]
    },
    {
     "name": "stderr",
     "output_type": "stream",
     "text": [
      "\n"
     ]
    }
   ],
   "source": [
    "MOVIES.to_csv('clean_poster_data.csv')\n",
    "not_found = database_download(SAVELOCATION, MOVIES, nb=50)\n",
    "print(not_found)"
   ]
  },
  {
   "cell_type": "markdown",
   "metadata": {},
   "source": [
    "# Preprocessing \n",
    "Traite les données"
   ]
  },
  {
   "cell_type": "code",
   "execution_count": 75,
   "metadata": {},
   "outputs": [],
   "source": [
    "def get_id(path):\n",
    "    \"\"\"Gets the id from the Pathlib path\"\"\"\n",
    "    filename = path.parts[-1]\n",
    "    index_f = filename.rfind(\".jpg\")\n",
    "    return int(filename[:index_f])\n",
    "\n",
    "\n",
    "def show_img(dataset, posters, labels, ids, index):\n",
    "    \"\"\"Shows the image with id at index position in ids\"\"\"\n",
    "    title = dataset.at[ids[index], 'title']\n",
    "    genre = dataset.at[ids[index], 'genre_1']\n",
    "#     genres = [dataset.at[id,'genre_'+i] for i in ['1','2','3']]\n",
    "    plt.imshow(posters[index])\n",
    "    plt.title('{} \\n {}'.format(title, genre))\n",
    "    print('Indice du film: ', ids[index])\n",
    "    print('Genre conservé: ', labels[index])\n",
    "    plt.show()\n",
    "\n",
    "\n",
    "def preprocess(img, size=(150, 100, 3)):\n",
    "    \"\"\"Normalizes the image\"\"\"\n",
    "    img = skimage.transform.resize(img, size)\n",
    "    img = img.astype(np.float32)\n",
    "#     img = (img / 127.5) -1\n",
    "    return img"
   ]
  },
  {
   "cell_type": "code",
   "execution_count": 76,
   "metadata": {},
   "outputs": [],
   "source": [
    "def prepare_data(path, dataset, size=(150, 100, 3), save=True):\n",
    "    \"\"\"Generates the data to be used by the neural network\"\"\"\n",
    "    print('Generating dataset...')\n",
    "    genre_list = dataset.genre_1.unique()\n",
    "    nb_genres = len(genre_list)\n",
    "    inv_genre = {genre_list[k]: k for k in range(nb_genres)}\n",
    "    image_glob = Path(path).glob(\"*.jpg\")\n",
    "    posters, genres, ids = [], [], []\n",
    "    for path in tqdm(image_glob):\n",
    "        try:\n",
    "            # Meilleure gestion d'erreur à faire\n",
    "            posters.append(preprocess(imageio.imread(path), size))\n",
    "            index = get_id(path)\n",
    "            vect_genre = np.zeros(nb_genres, dtype = int)\n",
    "            # Rajoute un 1 à l'indice correspondant à la position\n",
    "            # du premier genre de ce film dans la liste des genres\n",
    "            vect_genre[inv_genre[dataset.at[index, 'genre_1']]] = 1\n",
    "            ids.append(index)\n",
    "            genres.append(vect_genre)\n",
    "        except Exception as e:\n",
    "            print(e)\n",
    "    if save:\n",
    "        np.save('numpy_posters', posters)\n",
    "        np.save('numpy_genres', genres)\n",
    "        np.save('numpy_ids', ids)\n",
    "    print('Done.')\n",
    "    return posters, genres, ids"
   ]
  },
  {
   "cell_type": "code",
   "execution_count": 83,
   "metadata": {},
   "outputs": [
    {
     "name": "stdout",
     "output_type": "stream",
     "text": [
      "Indice du film:  962\n",
      "Genre conservé:  [0. 0. 1. 0. 0. 0. 0. 0. 0. 0. 0. 0. 0. 0. 0. 0. 0. 0. 0. 0. 0. 0. 0. 0.\n",
      " 0. 0. 0. 0. 0. 0. 0. 0. 0.]\n"
     ]
    },
    {
     "data": {
      "image/png": "[encoded data removed]",
      "text/plain": [
       "<Figure size 432x288 with 1 Axes>"
      ]
     },
     "metadata": {
      "needs_background": "light"
     },
     "output_type": "display_data"
    },
    {
     "name": "stdout",
     "output_type": "stream",
     "text": [
      "['Drame' 'Documentaire' 'Epouvante-horreur' 'Biopic' 'Comédie'\n",
      " 'Fantastique' 'Western' 'Aventure' 'Divers' 'Animation' 'Thriller'\n",
      " 'Action' 'Policier' 'Romance' 'Espionnage' 'Comédie dramatique' 'Guerre'\n",
      " 'Comédie musicale' 'Sport event' 'Famille' 'Bollywood' 'Musical'\n",
      " 'Science fiction' 'Historique' 'Opera' 'Concert' 'Judiciaire' 'Erotique'\n",
      " 'Classique' 'Péplum' 'Expérimental' 'Arts Martiaux' 'Dessin animé']\n",
      "         title release_date genre_1 genre_2 genre_3  \\\n",
      "1178  Creed II   2019-01-09   Drame  Action     NaN   \n",
      "\n",
      "                                                 poster  \n",
      "1178  http://fr.web.img5.acsta.net/pictures/18/11/27...  \n"
     ]
    }
   ],
   "source": [
    "# X,Y,ID = prepare_data(SAVELOCATION, MOVIES)\n",
    "X = np.load('numpy_posters.npy')\n",
    "Y = np.load('numpy_genres.npy')\n",
    "ID = np.load('numpy_ids.npy')\n",
    "show_img(MOVIES, X, Y, ID, 68)\n",
    "print(MOVIES.genre_1.unique())\n",
    "print(MOVIES[MOVIES.title == 'Creed II'])"
   ]
  },
  {
   "cell_type": "code",
   "execution_count": null,
   "metadata": {},
   "outputs": [],
   "source": []
  }
 ],
 "metadata": {
  "kernelspec": {
   "display_name": "Python 3",
   "language": "python",
   "name": "python3"
  },
  "language_info": {
   "codemirror_mode": {
    "name": "ipython",
    "version": 3
   },
   "file_extension": ".py",
   "mimetype": "text/x-python",
   "name": "python",
   "nbconvert_exporter": "python",
   "pygments_lexer": "ipython3",
   "version": "3.7.4"
  }
 },
 "nbformat": 4,
 "nbformat_minor": 2
}
